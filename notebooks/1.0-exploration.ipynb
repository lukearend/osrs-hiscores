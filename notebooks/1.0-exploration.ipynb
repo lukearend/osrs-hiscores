{
 "cells": [
  {
   "cell_type": "code",
   "execution_count": 165,
   "id": "5b9f0afc",
   "metadata": {},
   "outputs": [],
   "source": [
    "import pickle\n",
    "import numpy as np\n",
    "from matplotlib import pyplot as plt\n",
    "from scipy.stats import pearsonr\n",
    "from tqdm.notebook import tqdm"
   ]
  },
  {
   "cell_type": "code",
   "execution_count": 1,
   "id": "e87b5437",
   "metadata": {},
   "outputs": [],
   "source": [
    "in_file = '../data/processed/stats.pkl'\n",
    "with open(in_file, 'rb') as f:\n",
    "    contents = pickle.load(f)    "
   ]
  },
  {
   "cell_type": "code",
   "execution_count": 10,
   "id": "f3da4277",
   "metadata": {},
   "outputs": [],
   "source": [
    "usernames = contents['usernames']\n",
    "features = contents['features']\n",
    "stats = contents['stats']"
   ]
  },
  {
   "cell_type": "code",
   "execution_count": 11,
   "id": "393b6e8b",
   "metadata": {},
   "outputs": [
    {
     "data": {
      "text/plain": [
       "(1938253, (1938253, 72))"
      ]
     },
     "execution_count": 11,
     "metadata": {},
     "output_type": "execute_result"
    }
   ],
   "source": [
    "len(usernames), stats.shape"
   ]
  },
  {
   "cell_type": "code",
   "execution_count": 14,
   "id": "2b0ef264",
   "metadata": {},
   "outputs": [],
   "source": [
    "features = {feature: i for i, feature in enumerate(features)}"
   ]
  },
  {
   "cell_type": "code",
   "execution_count": 15,
   "id": "b5ab4af5",
   "metadata": {},
   "outputs": [],
   "source": [
    "attack_levels = stats[:, features['attack_level']]"
   ]
  },
  {
   "cell_type": "code",
   "execution_count": 17,
   "id": "bdcc50c0",
   "metadata": {},
   "outputs": [
    {
     "data": {
      "text/plain": [
       "-1"
      ]
     },
     "execution_count": 17,
     "metadata": {},
     "output_type": "execute_result"
    }
   ],
   "source": [
    "np.min(attack_levels)"
   ]
  },
  {
   "cell_type": "code",
   "execution_count": 29,
   "id": "5de0aa09",
   "metadata": {},
   "outputs": [
    {
     "data": {
      "text/plain": [
       "256329"
      ]
     },
     "execution_count": 29,
     "metadata": {},
     "output_type": "execute_result"
    }
   ],
   "source": [
    "np.sum(attack_levels == -1)"
   ]
  },
  {
   "cell_type": "code",
   "execution_count": 30,
   "id": "91a8b4ad",
   "metadata": {},
   "outputs": [],
   "source": [
    "keep_inds = attack_levels != -1\n",
    "attack_levels = attack_levels[keep_inds]"
   ]
  },
  {
   "cell_type": "code",
   "execution_count": 31,
   "id": "1dd77522",
   "metadata": {},
   "outputs": [
    {
     "data": {
      "text/plain": [
       "1681924"
      ]
     },
     "execution_count": 31,
     "metadata": {},
     "output_type": "execute_result"
    }
   ],
   "source": [
    "len(attack_levels)"
   ]
  },
  {
   "cell_type": "code",
   "execution_count": 37,
   "id": "514f4dba",
   "metadata": {},
   "outputs": [
    {
     "data": {
      "text/plain": [
       "(array([0.00000e+00, 8.60000e+01, 1.70000e+01, 1.50000e+01, 5.20000e+01,\n",
       "        1.30000e+01, 3.00000e+01, 1.90000e+01, 1.10000e+01, 5.10000e+01,\n",
       "        9.00000e+00, 1.00000e+00, 1.40000e+01, 4.00000e+00, 9.00000e+00,\n",
       "        5.30000e+01, 1.30000e+01, 5.00000e+00, 6.00000e+00, 1.01000e+02,\n",
       "        2.30000e+01, 2.60000e+01, 7.00000e+00, 1.60000e+01, 2.80000e+01,\n",
       "        6.00000e+00, 1.10000e+01, 1.10000e+01, 1.50000e+01, 2.98000e+02,\n",
       "        7.00000e+01, 1.16000e+02, 1.16000e+02, 7.30000e+01, 6.10000e+01,\n",
       "        1.09000e+02, 9.40000e+01, 8.70000e+01, 7.10000e+01, 1.71200e+03,\n",
       "        7.37000e+02, 7.16000e+02, 5.69000e+02, 1.15500e+03, 1.58300e+03,\n",
       "        1.09500e+03, 7.72000e+02, 7.89000e+02, 7.49000e+02, 5.94800e+03,\n",
       "        5.84300e+03, 1.54270e+04, 1.35930e+04, 1.14550e+04, 1.45680e+04,\n",
       "        9.91100e+03, 8.97200e+03, 7.75600e+03, 5.24300e+03, 1.99738e+05,\n",
       "        4.89690e+04, 2.62110e+04, 1.65110e+04, 1.28920e+04, 3.91820e+04,\n",
       "        1.46010e+04, 1.20090e+04, 1.08000e+04, 7.75900e+03, 1.69449e+05,\n",
       "        4.53200e+04, 3.08210e+04, 2.29870e+04, 1.69360e+04, 1.59672e+05,\n",
       "        3.55720e+04, 2.58780e+04, 2.18100e+04, 1.75520e+04, 7.88120e+04,\n",
       "        2.99400e+04, 2.40270e+04, 2.00860e+04, 1.81250e+04, 3.63940e+04,\n",
       "        2.01050e+04, 1.78520e+04, 1.70040e+04, 1.44680e+04, 5.00870e+04,\n",
       "        2.22250e+04, 1.97530e+04, 1.67960e+04, 1.51570e+04, 1.79470e+04,\n",
       "        1.38790e+04, 1.22680e+04, 1.06000e+04, 1.81390e+05]),\n",
       " array([  1,   2,   3,   4,   5,   6,   7,   8,   9,  10,  11,  12,  13,\n",
       "         14,  15,  16,  17,  18,  19,  20,  21,  22,  23,  24,  25,  26,\n",
       "         27,  28,  29,  30,  31,  32,  33,  34,  35,  36,  37,  38,  39,\n",
       "         40,  41,  42,  43,  44,  45,  46,  47,  48,  49,  50,  51,  52,\n",
       "         53,  54,  55,  56,  57,  58,  59,  60,  61,  62,  63,  64,  65,\n",
       "         66,  67,  68,  69,  70,  71,  72,  73,  74,  75,  76,  77,  78,\n",
       "         79,  80,  81,  82,  83,  84,  85,  86,  87,  88,  89,  90,  91,\n",
       "         92,  93,  94,  95,  96,  97,  98,  99, 100]),\n",
       " <BarContainer object of 99 artists>)"
      ]
     },
     "execution_count": 37,
     "metadata": {},
     "output_type": "execute_result"
    },
    {
     "data": {
      "image/png": "[encoded data removed]",
      "text/plain": [
       "<Figure size 432x288 with 1 Axes>"
      ]
     },
     "metadata": {
      "needs_background": "light"
     },
     "output_type": "display_data"
    }
   ],
   "source": [
    "plt.hist(attack_levels, bins=np.arange(1, 101))"
   ]
  },
  {
   "cell_type": "code",
   "execution_count": 99,
   "id": "8f5bbea6",
   "metadata": {},
   "outputs": [],
   "source": [
    "def plot_skill_hist(skill):\n",
    "    feature = skill + '_level'\n",
    "    levels = stats[:, features[feature]]\n",
    "    levels = levels[levels > 0]\n",
    "    plt.figure(figsize=(12, 8))\n",
    "    g = seaborn.histplot(levels, bins=np.arange(1, 101)) # [1, 2), [2, 3), ..., [99, 100]\n",
    "    g.set_yscale('log')\n",
    "    plt.show()"
   ]
  },
  {
   "cell_type": "code",
   "execution_count": 100,
   "id": "36531127",
   "metadata": {},
   "outputs": [
    {
     "data": {
      "image/png": "[encoded data removed]",
      "text/plain": [
       "<Figure size 864x576 with 1 Axes>"
      ]
     },
     "metadata": {
      "needs_background": "light"
     },
     "output_type": "display_data"
    }
   ],
   "source": [
    "plot_skill_hist('magic')"
   ]
  },
  {
   "cell_type": "code",
   "execution_count": 135,
   "id": "7f78e258",
   "metadata": {},
   "outputs": [],
   "source": [
    "att_lvls = stats[:, features['attack_level']]\n",
    "att_keep_inds = att_lvls > 0\n",
    "str_lvls = stats[:, features['strength_level']]\n",
    "str_keep_inds = str_lvls > 0\n",
    "def_lvls = stats[:, features['defence_level']]\n",
    "def_keep_inds = def_lvls > 0\n",
    "keep_inds = np.logical_and(att_keep_inds, str_keep_inds, def_keep_inds)\n",
    "att_lvls = att_lvls[keep_inds]\n",
    "str_lvls = str_lvls[keep_inds]\n",
    "def_lvls = def_lvls[keep_inds]"
   ]
  },
  {
   "cell_type": "code",
   "execution_count": 136,
   "id": "e42a3cc2",
   "metadata": {},
   "outputs": [
    {
     "name": "stdout",
     "output_type": "stream",
     "text": [
      "(0.8260904762074041, 0.0)\n",
      "(0.4608775171406557, 0.0)\n"
     ]
    }
   ],
   "source": [
    "att_str_corr = pearsonr(att_lvls, str_lvls)\n",
    "def_str_corr = pearsonr(def_lvls, str_lvls)\n",
    "print(att_str_corr)\n",
    "print(def_str_corr)"
   ]
  },
  {
   "cell_type": "code",
   "execution_count": 137,
   "id": "5511e783",
   "metadata": {},
   "outputs": [
    {
     "data": {
      "text/plain": [
       "529"
      ]
     },
     "execution_count": 137,
     "metadata": {},
     "output_type": "execute_result"
    }
   ],
   "source": [
    "23*23"
   ]
  },
  {
   "cell_type": "code",
   "execution_count": 139,
   "id": "ae7963bf",
   "metadata": {},
   "outputs": [],
   "source": [
    "import csv\n",
    "with open('../reference/skills.csv', 'r') as f:\n",
    "    reader = csv.reader(f)\n",
    "    skills = [line[0] for line in reader]"
   ]
  },
  {
   "cell_type": "code",
   "execution_count": 140,
   "id": "d1742727",
   "metadata": {},
   "outputs": [
    {
     "data": {
      "text/plain": [
       "['total',\n",
       " 'attack',\n",
       " 'defence',\n",
       " 'strength',\n",
       " 'hitpoints',\n",
       " 'ranged',\n",
       " 'prayer',\n",
       " 'magic',\n",
       " 'cooking',\n",
       " 'woodcutting',\n",
       " 'fletching',\n",
       " 'fishing',\n",
       " 'firemaking',\n",
       " 'crafting',\n",
       " 'smithing',\n",
       " 'mining',\n",
       " 'herblore',\n",
       " 'agility',\n",
       " 'thieving',\n",
       " 'slayer',\n",
       " 'farming',\n",
       " 'runecraft',\n",
       " 'hunter',\n",
       " 'construction']"
      ]
     },
     "execution_count": 140,
     "metadata": {},
     "output_type": "execute_result"
    }
   ],
   "source": [
    "skills"
   ]
  },
  {
   "cell_type": "code",
   "execution_count": 158,
   "id": "793dd951",
   "metadata": {},
   "outputs": [],
   "source": [
    "def correlate_skills(skill_a, skill_b):\n",
    "    levels_a = stats[:, features[skill_a + '_level']]\n",
    "    levels_b = stats[:, features[skill_b + '_level']]\n",
    "    keep_inds_a = levels_a > 0\n",
    "    keep_inds_b = levels_b > 0\n",
    "    keep_inds = np.logical_and(keep_inds_a, keep_inds_b)\n",
    "    levels_a = levels_a[keep_inds]\n",
    "    levels_b = levels_b[keep_inds]\n",
    "    r_value, _ = pearsonr(levels_a, levels_b)\n",
    "    return r_value"
   ]
  },
  {
   "cell_type": "code",
   "execution_count": 163,
   "id": "b2baa4c4",
   "metadata": {},
   "outputs": [
    {
     "data": {
      "application/vnd.jupyter.widget-view+json": {
       "model_id": "2f923dac35584306979a02be20cd7792",
       "version_major": 2,
       "version_minor": 0
      },
      "text/plain": [
       "0it [00:00, ?it/s]"
      ]
     },
     "metadata": {},
     "output_type": "display_data"
    },
    {
     "data": {
      "application/vnd.jupyter.widget-view+json": {
       "model_id": "b08cb52cb5a84650aae5fa2bb3de3fbd",
       "version_major": 2,
       "version_minor": 0
      },
      "text/plain": [
       "0it [00:00, ?it/s]"
      ]
     },
     "metadata": {},
     "output_type": "display_data"
    },
    {
     "data": {
      "application/vnd.jupyter.widget-view+json": {
       "model_id": "263a4ac3742b4010ac1d6dcc7ebe1e11",
       "version_major": 2,
       "version_minor": 0
      },
      "text/plain": [
       "0it [00:00, ?it/s]"
      ]
     },
     "metadata": {},
     "output_type": "display_data"
    },
    {
     "data": {
      "application/vnd.jupyter.widget-view+json": {
       "model_id": "0827017ded004039a95e84ea4944243b",
       "version_major": 2,
       "version_minor": 0
      },
      "text/plain": [
       "0it [00:00, ?it/s]"
      ]
     },
     "metadata": {},
     "output_type": "display_data"
    },
    {
     "data": {
      "application/vnd.jupyter.widget-view+json": {
       "model_id": "4ce9cd6117b04e02a00a083792c3ac0f",
       "version_major": 2,
       "version_minor": 0
      },
      "text/plain": [
       "0it [00:00, ?it/s]"
      ]
     },
     "metadata": {},
     "output_type": "display_data"
    },
    {
     "data": {
      "application/vnd.jupyter.widget-view+json": {
       "model_id": "b6ef26f11daa4e89be7133d314cc4d93",
       "version_major": 2,
       "version_minor": 0
      },
      "text/plain": [
       "0it [00:00, ?it/s]"
      ]
     },
     "metadata": {},
     "output_type": "display_data"
    },
    {
     "data": {
      "application/vnd.jupyter.widget-view+json": {
       "model_id": "59fe32882d88483695e72645f00b210a",
       "version_major": 2,
       "version_minor": 0
      },
      "text/plain": [
       "0it [00:00, ?it/s]"
      ]
     },
     "metadata": {},
     "output_type": "display_data"
    },
    {
     "data": {
      "application/vnd.jupyter.widget-view+json": {
       "model_id": "2d6625422bc240b49bac1756aa1e2914",
       "version_major": 2,
       "version_minor": 0
      },
      "text/plain": [
       "0it [00:00, ?it/s]"
      ]
     },
     "metadata": {},
     "output_type": "display_data"
    },
    {
     "data": {
      "application/vnd.jupyter.widget-view+json": {
       "model_id": "feef8dc6109e49ca8f251e68fa7fedb9",
       "version_major": 2,
       "version_minor": 0
      },
      "text/plain": [
       "0it [00:00, ?it/s]"
      ]
     },
     "metadata": {},
     "output_type": "display_data"
    },
    {
     "data": {
      "application/vnd.jupyter.widget-view+json": {
       "model_id": "7d00adff37bc432199c623a4b7af3525",
       "version_major": 2,
       "version_minor": 0
      },
      "text/plain": [
       "0it [00:00, ?it/s]"
      ]
     },
     "metadata": {},
     "output_type": "display_data"
    },
    {
     "data": {
      "application/vnd.jupyter.widget-view+json": {
       "model_id": "cc2d27d55a5147cc97df60b3f82fdb81",
       "version_major": 2,
       "version_minor": 0
      },
      "text/plain": [
       "0it [00:00, ?it/s]"
      ]
     },
     "metadata": {},
     "output_type": "display_data"
    },
    {
     "data": {
      "application/vnd.jupyter.widget-view+json": {
       "model_id": "1e95a11d57374060a49d0a260cadc54f",
       "version_major": 2,
       "version_minor": 0
      },
      "text/plain": [
       "0it [00:00, ?it/s]"
      ]
     },
     "metadata": {},
     "output_type": "display_data"
    },
    {
     "data": {
      "application/vnd.jupyter.widget-view+json": {
       "model_id": "89ea0bb745e94fb08c484225c027d18b",
       "version_major": 2,
       "version_minor": 0
      },
      "text/plain": [
       "0it [00:00, ?it/s]"
      ]
     },
     "metadata": {},
     "output_type": "display_data"
    },
    {
     "data": {
      "application/vnd.jupyter.widget-view+json": {
       "model_id": "2fe1c85df35841358a235478c37463fc",
       "version_major": 2,
       "version_minor": 0
      },
      "text/plain": [
       "0it [00:00, ?it/s]"
      ]
     },
     "metadata": {},
     "output_type": "display_data"
    },
    {
     "data": {
      "application/vnd.jupyter.widget-view+json": {
       "model_id": "df15f69423e7485db20104fa4deaf10c",
       "version_major": 2,
       "version_minor": 0
      },
      "text/plain": [
       "0it [00:00, ?it/s]"
      ]
     },
     "metadata": {},
     "output_type": "display_data"
    },
    {
     "data": {
      "application/vnd.jupyter.widget-view+json": {
       "model_id": "808c4ba6be274c1cb23aa2498afbb266",
       "version_major": 2,
       "version_minor": 0
      },
      "text/plain": [
       "0it [00:00, ?it/s]"
      ]
     },
     "metadata": {},
     "output_type": "display_data"
    },
    {
     "data": {
      "application/vnd.jupyter.widget-view+json": {
       "model_id": "caedf2d96f254e5c96a46fe77238517c",
       "version_major": 2,
       "version_minor": 0
      },
      "text/plain": [
       "0it [00:00, ?it/s]"
      ]
     },
     "metadata": {},
     "output_type": "display_data"
    },
    {
     "data": {
      "application/vnd.jupyter.widget-view+json": {
       "model_id": "4a454fb0830c4e059fca2b7ebd0bee06",
       "version_major": 2,
       "version_minor": 0
      },
      "text/plain": [
       "0it [00:00, ?it/s]"
      ]
     },
     "metadata": {},
     "output_type": "display_data"
    },
    {
     "data": {
      "application/vnd.jupyter.widget-view+json": {
       "model_id": "dc573f28b2184a0eaac890b0c57357de",
       "version_major": 2,
       "version_minor": 0
      },
      "text/plain": [
       "0it [00:00, ?it/s]"
      ]
     },
     "metadata": {},
     "output_type": "display_data"
    },
    {
     "data": {
      "application/vnd.jupyter.widget-view+json": {
       "model_id": "6ae439142e5d4967bf2272ec3cde6d2c",
       "version_major": 2,
       "version_minor": 0
      },
      "text/plain": [
       "0it [00:00, ?it/s]"
      ]
     },
     "metadata": {},
     "output_type": "display_data"
    },
    {
     "data": {
      "application/vnd.jupyter.widget-view+json": {
       "model_id": "35efe8b4bc444a4a82e70ed3ab53c73e",
       "version_major": 2,
       "version_minor": 0
      },
      "text/plain": [
       "0it [00:00, ?it/s]"
      ]
     },
     "metadata": {},
     "output_type": "display_data"
    },
    {
     "data": {
      "application/vnd.jupyter.widget-view+json": {
       "model_id": "bb24ab1c127a43fc81efdb5e62452231",
       "version_major": 2,
       "version_minor": 0
      },
      "text/plain": [
       "0it [00:00, ?it/s]"
      ]
     },
     "metadata": {},
     "output_type": "display_data"
    },
    {
     "data": {
      "application/vnd.jupyter.widget-view+json": {
       "model_id": "205922f2d19940778872efe388a01e86",
       "version_major": 2,
       "version_minor": 0
      },
      "text/plain": [
       "0it [00:00, ?it/s]"
      ]
     },
     "metadata": {},
     "output_type": "display_data"
    },
    {
     "data": {
      "application/vnd.jupyter.widget-view+json": {
       "model_id": "c1799d5f00ee498b92fc4e4ce85f5f32",
       "version_major": 2,
       "version_minor": 0
      },
      "text/plain": [
       "0it [00:00, ?it/s]"
      ]
     },
     "metadata": {},
     "output_type": "display_data"
    },
    {
     "data": {
      "application/vnd.jupyter.widget-view+json": {
       "model_id": "8e1a008f5714485bb6e74f2e9e30fac2",
       "version_major": 2,
       "version_minor": 0
      },
      "text/plain": [
       "0it [00:00, ?it/s]"
      ]
     },
     "metadata": {},
     "output_type": "display_data"
    }
   ],
   "source": [
    "r_matrix = np.zeros((len(skills), len(skills)))\n",
    "for i, skill_i in tqdm(enumerate(skills)):\n",
    "    for j, skill_j in tqdm(enumerate(skills)):\n",
    "        if i > j:\n",
    "            continue\n",
    "        r = correlate_skills(skill_i, skill_j)\n",
    "        r_matrix[i, j] = r\n",
    "        r_matrix[j, i] = r"
   ]
  },
  {
   "cell_type": "code",
   "execution_count": 164,
   "id": "4d0e1979",
   "metadata": {},
   "outputs": [
    {
     "data": {
      "image/png": "[encoded data removed]",
      "text/plain": [
       "<Figure size 432x288 with 1 Axes>"
      ]
     },
     "metadata": {
      "needs_background": "light"
     },
     "output_type": "display_data"
    }
   ],
   "source": [
    "plt.imshow(r_matrix)\n",
    "plt.show()"
   ]
  },
  {
   "cell_type": "code",
   "execution_count": null,
   "id": "8226f5b5",
   "metadata": {},
   "outputs": [],
   "source": []
  }
 ],
 "metadata": {
  "kernelspec": {
   "display_name": "Python 3 (ipykernel)",
   "language": "python",
   "name": "python3"
  },
  "language_info": {
   "codemirror_mode": {
    "name": "ipython",
    "version": 3
   },
   "file_extension": ".py",
   "mimetype": "text/x-python",
   "name": "python",
   "nbconvert_exporter": "python",
   "pygments_lexer": "ipython3",
   "version": "3.8.12"
  },
  "varInspector": {
   "cols": {
    "lenName": 16,
    "lenType": 16,
    "lenVar": 40
   },
   "kernels_config": {
    "python": {
     "delete_cmd_postfix": "",
     "delete_cmd_prefix": "del ",
     "library": "var_list.py",
     "varRefreshCmd": "print(var_dic_list())"
    },
    "r": {
     "delete_cmd_postfix": ") ",
     "delete_cmd_prefix": "rm(",
     "library": "var_list.r",
     "varRefreshCmd": "cat(var_dic_list()) "
    }
   },
   "types_to_exclude": [
    "module",
    "function",
    "builtin_function_or_method",
    "instance",
    "_Feature"
   ],
   "window_display": false
  }
 },
 "nbformat": 4,
 "nbformat_minor": 5
}
