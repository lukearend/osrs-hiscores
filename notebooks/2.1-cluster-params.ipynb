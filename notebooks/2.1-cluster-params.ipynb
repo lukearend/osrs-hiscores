{
 "cells": [
  {
   "cell_type": "code",
   "execution_count": 1,
   "id": "5c208f10",
   "metadata": {},
   "outputs": [
    {
     "ename": "ModuleNotFoundError",
     "evalue": "No module named 'boonnano'",
     "output_type": "error",
     "traceback": [
      "\u001b[0;31m---------------------------------------------------------------------------\u001b[0m",
      "\u001b[0;31mModuleNotFoundError\u001b[0m                       Traceback (most recent call last)",
      "\u001b[0;32m/var/folders/zr/xs4q8c7j7qgd3w4pl_6fbwwr0000gp/T/ipykernel_81375/47656966.py\u001b[0m in \u001b[0;36m<module>\u001b[0;34m\u001b[0m\n\u001b[1;32m      4\u001b[0m \u001b[0;32mfrom\u001b[0m \u001b[0mmatplotlib\u001b[0m \u001b[0;32mimport\u001b[0m \u001b[0mpyplot\u001b[0m \u001b[0;32mas\u001b[0m \u001b[0mplt\u001b[0m\u001b[0;34m\u001b[0m\u001b[0;34m\u001b[0m\u001b[0m\n\u001b[1;32m      5\u001b[0m \u001b[0;32mfrom\u001b[0m \u001b[0mtqdm\u001b[0m\u001b[0;34m.\u001b[0m\u001b[0mnotebook\u001b[0m \u001b[0;32mimport\u001b[0m \u001b[0mtqdm\u001b[0m\u001b[0;34m\u001b[0m\u001b[0;34m\u001b[0m\u001b[0m\n\u001b[0;32m----> 6\u001b[0;31m \u001b[0;32mfrom\u001b[0m \u001b[0mboonnano\u001b[0m \u001b[0;32mimport\u001b[0m \u001b[0mNanoHandle\u001b[0m\u001b[0;34m\u001b[0m\u001b[0;34m\u001b[0m\u001b[0m\n\u001b[0m",
      "\u001b[0;31mModuleNotFoundError\u001b[0m: No module named 'boonnano'"
     ]
    }
   ],
   "source": [
    "import csv\n",
    "import pickle\n",
    "import numpy as np\n",
    "from matplotlib import pyplot as plt\n",
    "from tqdm.notebook import tqdm\n",
    "from boonnano import NanoHandle"
   ]
  },
  {
   "cell_type": "code",
   "execution_count": 2,
   "id": "469c0ae3",
   "metadata": {},
   "outputs": [],
   "source": [
    "with open('../data/processed/stats.csv', 'rb') as f:\n",
    "    data = pickle.load(f)"
   ]
  },
  {
   "cell_type": "code",
   "execution_count": 3,
   "id": "20ca678a",
   "metadata": {},
   "outputs": [],
   "source": [
    "players = data['usernames']\n",
    "skills = [feature[:-len(\"_level\")] for feature in data['features'][4::3]]\n",
    "\n",
    "levels = data['stats'][:, 4::3]\n",
    "levels[np.where(levels == -1)] = 1"
   ]
  },
  {
   "cell_type": "code",
   "execution_count": 4,
   "id": "af2fa374",
   "metadata": {},
   "outputs": [],
   "source": [
    "nano = NanoHandle(timeout=None)"
   ]
  },
  {
   "cell_type": "code",
   "execution_count": 30,
   "id": "aab6fc55",
   "metadata": {},
   "outputs": [
    {
     "name": "stdout",
     "output_type": "stream",
     "text": [
      "using nano 'all'\n"
     ]
    },
    {
     "data": {
      "application/vnd.jupyter.widget-view+json": {
       "model_id": "a4e70b720878481c8c4e9a250436a955",
       "version_major": 2,
       "version_minor": 0
      },
      "text/plain": [
       "0it [00:00, ?it/s]"
      ]
     },
     "metadata": {},
     "output_type": "display_data"
    },
    {
     "name": "stdout",
     "output_type": "stream",
     "text": [
      "pv = 0.2, num_clusters = 272\n",
      "pv = 0.19, num_clusters = 296\n",
      "pv = 0.18, num_clusters = 308\n",
      "pv = 0.17, num_clusters = 418\n",
      "pv = 0.16, num_clusters = 586\n",
      "pv = 0.15, num_clusters = 828\n",
      "pv = 0.14, num_clusters = 1207\n",
      "pv = 0.13, num_clusters = 1742\n",
      "pv = 0.12, num_clusters = 2576\n",
      "pv = 0.11, num_clusters = 3847\n",
      "pv = 0.1, num_clusters = 5777\n"
     ]
    },
    {
     "data": {
      "image/png": "[encoded data removed]",
      "text/plain": [
       "<Figure size 864x576 with 1 Axes>"
      ]
     },
     "metadata": {
      "needs_background": "light"
     },
     "output_type": "display_data"
    },
    {
     "name": "stdout",
     "output_type": "stream",
     "text": [
      "using nano 'cb'\n"
     ]
    },
    {
     "data": {
      "application/vnd.jupyter.widget-view+json": {
       "model_id": "467166cf82754015b4427b5acff3472a",
       "version_major": 2,
       "version_minor": 0
      },
      "text/plain": [
       "0it [00:00, ?it/s]"
      ]
     },
     "metadata": {},
     "output_type": "display_data"
    },
    {
     "name": "stdout",
     "output_type": "stream",
     "text": [
      "pv = 0.2, num_clusters = 57\n",
      "pv = 0.19, num_clusters = 58\n",
      "pv = 0.18, num_clusters = 59\n",
      "pv = 0.17, num_clusters = 77\n",
      "pv = 0.16, num_clusters = 89\n",
      "pv = 0.15, num_clusters = 108\n",
      "pv = 0.14, num_clusters = 126\n",
      "pv = 0.13, num_clusters = 164\n",
      "pv = 0.12, num_clusters = 190\n",
      "pv = 0.11, num_clusters = 237\n",
      "pv = 0.1, num_clusters = 311\n",
      "pv = 0.09, num_clusters = 412\n",
      "pv = 0.08, num_clusters = 549\n",
      "pv = 0.07, num_clusters = 771\n",
      "pv = 0.06, num_clusters = 1029\n",
      "pv = 0.05, num_clusters = 1508\n"
     ]
    },
    {
     "data": {
      "image/png": "[encoded data removed]",
      "text/plain": [
       "<Figure size 432x288 with 1 Axes>"
      ]
     },
     "metadata": {
      "needs_background": "light"
     },
     "output_type": "display_data"
    },
    {
     "name": "stdout",
     "output_type": "stream",
     "text": [
      "using nano 'noncb'\n"
     ]
    },
    {
     "data": {
      "application/vnd.jupyter.widget-view+json": {
       "model_id": "798d764dae23489990ae4dd84fe6a7bd",
       "version_major": 2,
       "version_minor": 0
      },
      "text/plain": [
       "0it [00:00, ?it/s]"
      ]
     },
     "metadata": {},
     "output_type": "display_data"
    },
    {
     "name": "stdout",
     "output_type": "stream",
     "text": [
      "pv = 0.2, num_clusters = 311\n",
      "pv = 0.19, num_clusters = 323\n",
      "pv = 0.18, num_clusters = 342\n",
      "pv = 0.17, num_clusters = 439\n",
      "pv = 0.16, num_clusters = 617\n",
      "pv = 0.15, num_clusters = 862\n",
      "pv = 0.14, num_clusters = 1201\n",
      "pv = 0.13, num_clusters = 1739\n",
      "pv = 0.12, num_clusters = 2555\n",
      "pv = 0.11, num_clusters = 3777\n",
      "pv = 0.1, num_clusters = 5622\n"
     ]
    },
    {
     "data": {
      "image/png": "[encoded data removed]",
      "text/plain": [
       "<Figure size 432x288 with 1 Axes>"
      ]
     },
     "metadata": {
      "needs_background": "light"
     },
     "output_type": "display_data"
    }
   ],
   "source": [
    "plt.figure(figsize=(12, 8))\n",
    "\n",
    "num_rows = levels.shape[0]\n",
    "for experiment in ['all', 'cb', 'noncb']:\n",
    "    \n",
    "    if experiment == 'all':\n",
    "        feature_count = 23\n",
    "        weight = 7*[16*23] + 16*[7*23]\n",
    "        dataset = levels\n",
    "    elif experiment == 'cb':\n",
    "        feature_count = 7\n",
    "        weight = 1\n",
    "        dataset = levels[:, :7]\n",
    "    elif experiment == 'noncb':\n",
    "        feature_count = 16\n",
    "        weight = 1\n",
    "        dataset = levels[:, 7:]\n",
    "        \n",
    "    success, response = nano.open_nano('all')\n",
    "    if not success:\n",
    "        raise ValueError(response)\n",
    "    print(\"using nano '{}'\".format(experiment))\n",
    "        \n",
    "    subsample = np.random.choice(num_rows, size=100000, replace=False)\n",
    "    autotune_data = dataset[subsample]\n",
    "    \n",
    "    pvs = np.linspace(0.05, 0.20, 16)\n",
    "    num_clusters = np.zeros(len(pvs), dtype='int')\n",
    "    for i, pv in tqdm(enumerate(pvs[::-1])):\n",
    "        nano.configure_nano(feature_count=feature_count,\n",
    "                            min_val=1, max_val=99,\n",
    "                            weight=weight,\n",
    "                            percent_variation=pv)\n",
    "\n",
    "        cluster_ids = np.zeros(100000, dtype='int')\n",
    "        for j in range(10):\n",
    "            batch_start = j*10000\n",
    "            batch_end = (j+1)*10000\n",
    "            batch = autotune_data[batch_start:batch_end]\n",
    "            \n",
    "            success, response = nano.load_data(batch)\n",
    "            if not success:\n",
    "                raise ValueError(response)\n",
    "            success, response = nano.run_nano(results='ID,RI')\n",
    "            if not success:\n",
    "                raise ValueError(response)\n",
    "                \n",
    "            cluster_ids[batch_start:batch_end] = response['ID']\n",
    "        \n",
    "        cluster_count = np.max(cluster_ids)\n",
    "        num_clusters[i] = cluster_count\n",
    "        \n",
    "        print(\"pv = {:0.2}, num_clusters = {}\".format(pv, cluster_count))\n",
    "        \n",
    "        if cluster_count > 5000:\n",
    "            break\n",
    "\n",
    "    plt.stem(num_clusters)\n",
    "    plt.show()"
   ]
  },
  {
   "cell_type": "code",
   "execution_count": 40,
   "id": "1e42ac54",
   "metadata": {},
   "outputs": [
    {
     "name": "stdout",
     "output_type": "stream",
     "text": [
      "using nano 'all'\n"
     ]
    },
    {
     "data": {
      "application/vnd.jupyter.widget-view+json": {
       "model_id": "f96ef7409d694b169214765b0c77e8a6",
       "version_major": 2,
       "version_minor": 0
      },
      "text/plain": [
       "0it [00:00, ?it/s]"
      ]
     },
     "metadata": {},
     "output_type": "display_data"
    },
    {
     "name": "stdout",
     "output_type": "stream",
     "text": [
      "pv = 0.13, num_clusters = 1813\n",
      "pv = 0.129, num_clusters = 1890\n",
      "pv = 0.128, num_clusters = 1944\n",
      "pv = 0.127, num_clusters = 1997\n",
      "pv = 0.126, num_clusters = 2079\n"
     ]
    },
    {
     "data": {
      "image/png": "[encoded data removed]",
      "text/plain": [
       "<Figure size 864x576 with 1 Axes>"
      ]
     },
     "metadata": {
      "needs_background": "light"
     },
     "output_type": "display_data"
    },
    {
     "name": "stdout",
     "output_type": "stream",
     "text": [
      "using nano 'cb'\n"
     ]
    },
    {
     "data": {
      "application/vnd.jupyter.widget-view+json": {
       "model_id": "b0b09d54d4c04cd892d508619567eddc",
       "version_major": 2,
       "version_minor": 0
      },
      "text/plain": [
       "0it [00:00, ?it/s]"
      ]
     },
     "metadata": {},
     "output_type": "display_data"
    },
    {
     "name": "stdout",
     "output_type": "stream",
     "text": [
      "pv = 0.07, num_clusters = 740\n",
      "pv = 0.069, num_clusters = 752\n",
      "pv = 0.068, num_clusters = 769\n",
      "pv = 0.067, num_clusters = 790\n",
      "pv = 0.066, num_clusters = 818\n",
      "pv = 0.065, num_clusters = 845\n",
      "pv = 0.064, num_clusters = 859\n",
      "pv = 0.063, num_clusters = 894\n",
      "pv = 0.062, num_clusters = 928\n",
      "pv = 0.061, num_clusters = 955\n",
      "pv = 0.06, num_clusters = 989\n"
     ]
    },
    {
     "data": {
      "image/png": "[encoded data removed]",
      "text/plain": [
       "<Figure size 432x288 with 1 Axes>"
      ]
     },
     "metadata": {
      "needs_background": "light"
     },
     "output_type": "display_data"
    },
    {
     "name": "stdout",
     "output_type": "stream",
     "text": [
      "using nano 'noncb'\n"
     ]
    },
    {
     "data": {
      "application/vnd.jupyter.widget-view+json": {
       "model_id": "444c86b80f674db7b4c8fb0cc7e881b3",
       "version_major": 2,
       "version_minor": 0
      },
      "text/plain": [
       "0it [00:00, ?it/s]"
      ]
     },
     "metadata": {},
     "output_type": "display_data"
    },
    {
     "name": "stdout",
     "output_type": "stream",
     "text": [
      "pv = 0.15, num_clusters = 847\n",
      "pv = 0.149, num_clusters = 864\n",
      "pv = 0.148, num_clusters = 890\n",
      "pv = 0.147, num_clusters = 925\n",
      "pv = 0.146, num_clusters = 962\n",
      "pv = 0.145, num_clusters = 965\n",
      "pv = 0.144, num_clusters = 1005\n"
     ]
    },
    {
     "data": {
      "image/png": "[encoded data removed]",
      "text/plain": [
       "<Figure size 432x288 with 1 Axes>"
      ]
     },
     "metadata": {
      "needs_background": "light"
     },
     "output_type": "display_data"
    }
   ],
   "source": [
    "plt.figure(figsize=(12, 8))\n",
    "\n",
    "num_rows = levels.shape[0]\n",
    "for experiment in ['all', 'cb', 'noncb']:\n",
    "    \n",
    "    if experiment == 'all':\n",
    "        feature_count = 23\n",
    "        weight = 7*[16*23] + 16*[7*23]\n",
    "        pvs = np.linspace(0.12, 0.13, 11)[::-1]\n",
    "        dataset = levels\n",
    "    elif experiment == 'cb':\n",
    "        feature_count = 7\n",
    "        weight = 1\n",
    "        pvs = np.linspace(0.06, 0.07, 11)[::-1]\n",
    "        dataset = levels[:, :7]\n",
    "    elif experiment == 'noncb':\n",
    "        feature_count = 16\n",
    "        weight = 1\n",
    "        pvs = np.linspace(0.14, 0.15, 11)[::-1]\n",
    "        dataset = levels[:, 7:]\n",
    "        \n",
    "    success, response = nano.open_nano('all')\n",
    "    if not success:\n",
    "        raise ValueError(response)\n",
    "    print(\"using nano '{}'\".format(experiment))\n",
    "        \n",
    "    subsample = np.random.choice(num_rows, size=100000, replace=False)\n",
    "    autotune_data = dataset[subsample]\n",
    "    \n",
    "    num_clusters = np.zeros(len(pvs), dtype='int')\n",
    "    for i, pv in tqdm(enumerate(pvs)):\n",
    "        nano.configure_nano(feature_count=feature_count,\n",
    "                            min_val=1, max_val=99,\n",
    "                            weight=weight,\n",
    "                            percent_variation=pv)\n",
    "\n",
    "        cluster_ids = np.zeros(100000, dtype='int')\n",
    "        for j in range(10):\n",
    "            batch_start = j*10000\n",
    "            batch_end = (j+1)*10000\n",
    "            batch = autotune_data[batch_start:batch_end]\n",
    "            \n",
    "            success, response = nano.load_data(batch)\n",
    "            if not success:\n",
    "                raise ValueError(response)\n",
    "            success, response = nano.run_nano(results='ID,RI')\n",
    "            if not success:\n",
    "                raise ValueError(response)\n",
    "                \n",
    "            cluster_ids[batch_start:batch_end] = response['ID']\n",
    "        \n",
    "        cluster_count = np.max(cluster_ids)\n",
    "        num_clusters[i] = cluster_count\n",
    "        \n",
    "        print(\"pv = {:0.3}, num_clusters = {}\".format(pv, cluster_count))\n",
    "        \n",
    "        if experiment == 'all':\n",
    "            if cluster_count > 2000:\n",
    "                break\n",
    "        else:\n",
    "            if cluster_count > 1000:\n",
    "                break\n",
    "\n",
    "    plt.stem(num_clusters)\n",
    "    plt.show()"
   ]
  },
  {
   "cell_type": "code",
   "execution_count": 41,
   "id": "7c2ae553",
   "metadata": {},
   "outputs": [],
   "source": [
    "params = {\n",
    "    'all': {\n",
    "        'pv': 0.127,\n",
    "        'weight': 7*[16*23] + 16*[7*23],\n",
    "        'feature_count': 23\n",
    "    },\n",
    "    'cb': {\n",
    "        'pv': 0.060,\n",
    "        'weight': 1,\n",
    "        'feature_count': 7\n",
    "    },\n",
    "    'noncb': {\n",
    "        'pv': 0.144,\n",
    "        'weight': 1,\n",
    "        'feature_count': 16\n",
    "    }\n",
    "}"
   ]
  },
  {
   "cell_type": "code",
   "execution_count": null,
   "id": "b9a2a4b8",
   "metadata": {},
   "outputs": [],
   "source": []
  }
 ],
 "metadata": {
  "kernelspec": {
   "display_name": "Python 3 (ipykernel)",
   "language": "python",
   "name": "python3"
  },
  "language_info": {
   "codemirror_mode": {
    "name": "ipython",
    "version": 3
   },
   "file_extension": ".py",
   "mimetype": "text/x-python",
   "name": "python",
   "nbconvert_exporter": "python",
   "pygments_lexer": "ipython3",
   "version": "3.9.6"
  },
  "varInspector": {
   "cols": {
    "lenName": 16,
    "lenType": 16,
    "lenVar": 40
   },
   "kernels_config": {
    "python": {
     "delete_cmd_postfix": "",
     "delete_cmd_prefix": "del ",
     "library": "var_list.py",
     "varRefreshCmd": "print(var_dic_list())"
    },
    "r": {
     "delete_cmd_postfix": ") ",
     "delete_cmd_prefix": "rm(",
     "library": "var_list.r",
     "varRefreshCmd": "cat(var_dic_list()) "
    }
   },
   "types_to_exclude": [
    "module",
    "function",
    "builtin_function_or_method",
    "instance",
    "_Feature"
   ],
   "window_display": false
  }
 },
 "nbformat": 4,
 "nbformat_minor": 5
}
