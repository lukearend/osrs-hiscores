{
 "cells": [
  {
   "cell_type": "code",
   "execution_count": 1,
   "id": "5c208f10",
   "metadata": {},
   "outputs": [],
   "source": [
    "import csv\n",
    "import pickle\n",
    "import numpy as np\n",
    "from matplotlib import pyplot as plt\n",
    "from tqdm.notebook import tqdm\n",
    "from boonamber import AmberClient"
   ]
  },
  {
   "cell_type": "code",
   "execution_count": 2,
   "id": "469c0ae3",
   "metadata": {},
   "outputs": [
    {
     "data": {
      "application/vnd.jupyter.widget-view+json": {
       "model_id": "587a01601b054df3bb568edf1912acd8",
       "version_major": 2,
       "version_minor": 0
      },
      "text/plain": [
       "0it [00:00, ?it/s]"
      ]
     },
     "metadata": {},
     "output_type": "display_data"
    }
   ],
   "source": [
    "with open('../data/processed/stats.csv', 'r') as f:\n",
    "    reader = csv.reader(f)\n",
    "    fields = next(reader)\n",
    "    usernames = []\n",
    "    stats_list = []\n",
    "    for line in tqdm(reader):\n",
    "        levels = [int(n) for n in line[5::3]]\n",
    "        usernames.append(line[0])\n",
    "        stats_list.append(levels)\n",
    "stats = np.array(stats_list)\n",
    "del stats_list\n",
    "stats[np.where(stats == -1)] = 1"
   ]
  },
  {
   "cell_type": "code",
   "execution_count": 10,
   "id": "00ac0c32",
   "metadata": {},
   "outputs": [],
   "source": [
    "def get_weights(split):\n",
    "    if split == 'all':\n",
    "        cb_weight = 2 * (16 / 23)\n",
    "        noncb_weight = 7 / 23\n",
    "        return 7*[cb_weight] + 16*[noncb_weight]\n",
    "    else:\n",
    "        return 1\n",
    "\n",
    "def get_dataset(split):\n",
    "    if split == 'all':\n",
    "        return stats\n",
    "    elif split == 'cb':\n",
    "        return stats[:, :7]\n",
    "    elif split == 'noncb':\n",
    "        return stats[:, 7:]"
   ]
  },
  {
   "cell_type": "code",
   "execution_count": 7,
   "id": "e16f5bd4",
   "metadata": {},
   "outputs": [],
   "source": [
    "amber = AmberClient(license_id='luke-dev')\n",
    "sensor_id = amber.create_sensor()\n",
    "with open('../reference/model_id.txt', 'w') as f:\n",
    "    f.write(sensor_id)"
   ]
  },
  {
   "cell_type": "code",
   "execution_count": 9,
   "id": "6335ed47",
   "metadata": {},
   "outputs": [],
   "source": [
    "amber = AmberClient(license_id='luke-dev')\n",
    "with open('../reference/model_id.txt', 'r') as f:\n",
    "    sensor_id = f.read()"
   ]
  },
  {
   "cell_type": "code",
   "execution_count": null,
   "id": "791ae6f9",
   "metadata": {},
   "outputs": [],
   "source": [
    "def cluster_dataset(dataset, mins, maxes, max_clusters=None)\n",
    "\n",
    "def get_num_clusters(dataset, pv, max_clusters=None):\n",
    "    num_samples = len(dataset)\n",
    "    cluster_ids = np.zeros(num_samples, dtype='int')\n",
    "    \n",
    "    success, response = nano.open_nano('0')\n",
    "    if not success:\n",
    "        raise ValueError(response)\n",
    "    \n",
    "    batch_size = 10000\n",
    "    max_id = 0\n",
    "    for i in range(num_samples // batch_size):\n",
    "        batch_start = i * batch_size\n",
    "        batch_end = (i + 1) * batch_size\n",
    "        batch = data[batch_start:batch_end]\n",
    "\n",
    "        success, response = nano.load_data(batch)\n",
    "        if not success:\n",
    "            raise ValueError(response)\n",
    "        success, response = nano.run_nano(results='ID')\n",
    "        if not success:\n",
    "            raise ValueError(response)\n",
    "\n",
    "        max_in_batch = max(response['ID'])\n",
    "        max_id = max(max_id, max_in_batch)\n",
    "\n",
    "    if max_clusters and max_id > max_clusters:\n",
    "        return None\n",
    "    \n",
    "    return max_id"
   ]
  },
  {
   "cell_type": "code",
   "execution_count": null,
   "id": "dd046728",
   "metadata": {},
   "outputs": [],
   "source": [
    "def find_optimal_pv(max_clusters=1000)"
   ]
  },
  {
   "cell_type": "code",
   "execution_count": null,
   "id": "aab6fc55",
   "metadata": {},
   "outputs": [],
   "source": [
    "np.random.seed(0)\n",
    "for split in ['all', 'cb', 'noncb']:\n",
    "    \n",
    "    print(\"sweeping pv parameter for data split '{}'...\".format(split))\n",
    "    weights = get_weights(split)\n",
    "    dataset = get_dataset(split)\n",
    "\n",
    "    num_samples = 100000\n",
    "    subsample = np.random.choice(len(stats), size=num_samples, replace=False)\n",
    "    autotune_data = dataset[subsample]\n",
    "\n",
    "    success, response = nano.open_nano('0')\n",
    "    if not success:\n",
    "        raise ValueError(response)\n",
    "\n",
    "    pvs = np.linspace(0.05, 0.20, 16)\n",
    "    inference_dataset(nano, dataset, pv, max_clusters=None)\n",
    "    \n",
    "    plt.figure(figsize=(12, 8))\n",
    "    plt.stem(num_clusters)\n",
    "    plt.xticks(ticks=np.arange(len(num_clusters)),\n",
    "               labels=[f'{pv:.2f}' for pv in pvs[::-1]])\n",
    "    plt.title(\"Data split '{}'\".format(split))\n",
    "    plt.xlabel(\"Percent variation\")\n",
    "    plt.ylabel(\"Number of clusters\")\n",
    "    plt.show()"
   ]
  },
  {
   "cell_type": "code",
   "execution_count": null,
   "id": "1e42ac54",
   "metadata": {},
   "outputs": [],
   "source": [
    "for split in ['all', 'cb', 'noncb']:\n",
    "    \n",
    "    print(\"sweeping percent variation for data split '{}'...\".format(split))\n",
    "    weights = get_weights(split)\n",
    "    dataset = get_dataset(split)\n",
    "\n",
    "    num_samples = 100000\n",
    "    subsample = np.random.choice(len(stats), size=num_samples, replace=False)\n",
    "    autotune_data = dataset[subsample]\n",
    "\n",
    "    success, response = nano.open_nano('0')\n",
    "    if not success:\n",
    "        raise ValueError(response)\n",
    "    \n",
    "    num_clusters = np.zeros(len(pvs), dtype='int')\n",
    "    for i, pv in tqdm(enumerate(pvs)):\n",
    "        nano.configure_nano(feature_count=feature_count, weight=weight,\n",
    "                            min_val=1, max_val=99, percent_variation=pv)\n",
    "\n",
    "        batch_size = 10000\n",
    "        cluster_ids = np.zeros(len(subsample), dtype='int')\n",
    "        for j in range(num_samples // batch_size):\n",
    "            batch_start = j*batch_size\n",
    "            batch_end = (j+1)*batch_size\n",
    "            batch = autotune_data[batch_start:batch_end]\n",
    "            \n",
    "            success, response = nano.load_data(batch)\n",
    "            if not success:\n",
    "                raise ValueError(response)\n",
    "            success, response = nano.run_nano(results='ID')\n",
    "            if not success:\n",
    "                raise ValueError(response)\n",
    "                \n",
    "            cluster_ids[batch_start:batch_end] = response['ID']\n",
    "        \n",
    "        cluster_count = np.max(cluster_ids)\n",
    "        num_clusters[i] = cluster_count\n",
    "        print(\"pv = {:0.3}, num_clusters = {}\".format(pv, cluster_count))\n",
    "        \n",
    "        if cluster_count > 1000:\n",
    "            break\n",
    "\n",
    "    plt.figure(figsize=(12, 8))\n",
    "    plt.stem(num_clusters)\n",
    "    plt.xticks(ticks=np.arange(len(num_clusters)),\n",
    "               labels=[f'{pv:.2f}' for pv in pvs[::-1]])\n",
    "    plt.title(\"Data split '{}'\".format(split))\n",
    "    plt.xlabel(\"Percent variation\")\n",
    "    plt.ylabel(\"Number of clusters\")\n",
    "    plt.show()"
   ]
  },
  {
   "cell_type": "code",
   "execution_count": null,
   "id": "7c2ae553",
   "metadata": {},
   "outputs": [],
   "source": [
    "params = {\n",
    "    'all': {\n",
    "        'pv': 0.127,\n",
    "        'weight': 7*[16*23] + 16*[7*23],\n",
    "        'feature_count': 23\n",
    "    },\n",
    "    'cb': {\n",
    "        'pv': 0.060,\n",
    "        'weight': 1,\n",
    "        'feature_count': 7\n",
    "    },\n",
    "    'noncb': {\n",
    "        'pv': 0.144,\n",
    "        'weight': 1,\n",
    "        'feature_count': 16\n",
    "    }\n",
    "}"
   ]
  },
  {
   "cell_type": "code",
   "execution_count": null,
   "id": "b9a2a4b8",
   "metadata": {},
   "outputs": [],
   "source": []
  }
 ],
 "metadata": {
  "kernelspec": {
   "display_name": "Python 3 (ipykernel)",
   "language": "python",
   "name": "python3"
  },
  "language_info": {
   "codemirror_mode": {
    "name": "ipython",
    "version": 3
   },
   "file_extension": ".py",
   "mimetype": "text/x-python",
   "name": "python",
   "nbconvert_exporter": "python",
   "pygments_lexer": "ipython3",
   "version": "3.9.6"
  },
  "varInspector": {
   "cols": {
    "lenName": 16,
    "lenType": 16,
    "lenVar": 40
   },
   "kernels_config": {
    "python": {
     "delete_cmd_postfix": "",
     "delete_cmd_prefix": "del ",
     "library": "var_list.py",
     "varRefreshCmd": "print(var_dic_list())"
    },
    "r": {
     "delete_cmd_postfix": ") ",
     "delete_cmd_prefix": "rm(",
     "library": "var_list.r",
     "varRefreshCmd": "cat(var_dic_list()) "
    }
   },
   "types_to_exclude": [
    "module",
    "function",
    "builtin_function_or_method",
    "instance",
    "_Feature"
   ],
   "window_display": false
  }
 },
 "nbformat": 4,
 "nbformat_minor": 5
}
