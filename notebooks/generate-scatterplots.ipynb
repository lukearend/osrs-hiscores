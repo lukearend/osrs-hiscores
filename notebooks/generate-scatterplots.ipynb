{
 "cells": [
  {
   "cell_type": "code",
   "execution_count": 1,
   "id": "3e8e6af4",
   "metadata": {},
   "outputs": [],
   "source": [
    "import json\n",
    "import math\n",
    "import pickle\n",
    "import matplotlib as mpl\n",
    "import numpy as np\n",
    "from matplotlib import pyplot as plt\n",
    "from mpl_toolkits.mplot3d import Axes3D\n",
    "from mpl_toolkits.axes_grid1 import make_axes_locatable"
   ]
  },
  {
   "cell_type": "code",
   "execution_count": 2,
   "id": "8952108d",
   "metadata": {},
   "outputs": [],
   "source": [
    "with open('../data/interim/percentiles.pkl', 'rb') as f:\n",
    "    centroids = pickle.load(f)\n",
    "with open('../data/interim/clusters.pkl', 'rb') as f:\n",
    "    clusters = pickle.load(f)\n",
    "with open('../data/interim/dimreduced.pkl', 'rb') as f:\n",
    "    xyz_data = pickle.load(f)\n",
    "with open('../reference/params.json', 'r') as f:\n",
    "    params = json.load(f)"
   ]
  },
  {
   "cell_type": "code",
   "execution_count": 3,
   "id": "e0d44955",
   "metadata": {},
   "outputs": [
    {
     "data": {
      "text/plain": [
       "<Figure size 864x864 with 0 Axes>"
      ]
     },
     "metadata": {},
     "output_type": "display_data"
    },
    {
     "data": {
      "text/plain": [
       "<Figure size 864x864 with 0 Axes>"
      ]
     },
     "metadata": {},
     "output_type": "display_data"
    },
    {
     "data": {
      "text/plain": [
       "<Figure size 864x864 with 0 Axes>"
      ]
     },
     "metadata": {},
     "output_type": "display_data"
    }
   ],
   "source": [
    "for split in params.keys():\n",
    "    total_levels = centroids[split][50][:, 0]\n",
    "    cluster_sizes = clusters[split]['cluster_sizes']\n",
    "    xyz = xyz_data[split]\n",
    "\n",
    "    fig = plt.figure(figsize=(12, 12))\n",
    "\n",
    "    ax = fig.add_subplot(111, projection='3d')\n",
    "    title_split = {\n",
    "        'all': 'all',\n",
    "        'cb': 'combat',\n",
    "        'noncb': 'non-combat'\n",
    "    }[split]\n",
    "    plt.title(\"OSRS players clustered by {} skills\".format(title_split),\n",
    "              weight='bold', fontsize=16, y=1.0, pad=14)\n",
    "    sizes = (1 + np.log(cluster_sizes)) ** 2\n",
    "    ax.scatter(xyz[:, 0], xyz[:, 1], xyz[:, 2], c=np.log(total_levels), s=sizes, alpha=0.25)\n",
    "\n",
    "    xlim = [np.min(xyz[:, 0]), np.max(xyz[:, 0])]\n",
    "    ylim = [np.min(xyz[:, 1]), np.max(xyz[:, 1])]\n",
    "    zlim = [np.min(xyz[:, 2]), np.max(xyz[:, 2])]\n",
    "    ax.set_xticks(range(math.ceil(xlim[0]), math.floor(xlim[1]) + 1))\n",
    "    ax.set_yticks(range(math.ceil(ylim[0]), math.floor(ylim[1]) + 1))\n",
    "    ax.set_zticks(range(math.ceil(zlim[0]), math.floor(zlim[1]) + 1))\n",
    "    ax.set_xlim(xlim)\n",
    "    ax.set_ylim(ylim)\n",
    "    ax.set_zlim(zlim)\n",
    "    \n",
    "    if split == 'all' or split == 'noncb':\n",
    "        ticks = [750, 1000, 1250, 1500, 1750, 2000, 2277]\n",
    "        ticklabels = [750, 1000, 1250, 1500, 1750, 2000, 'max']\n",
    "    elif split == 'cb':\n",
    "        ticks = [400, 500, 600, 750, 1000, 1500, 2000, 2277]\n",
    "        ticklabels = [400, 500, 600, 750, 1000, 1500, 2000, 'max']\n",
    "\n",
    "    cax = plt.axes([0.18, 0.10, 0.675, 0.04])\n",
    "    norm = mpl.colors.LogNorm(vmin=np.min(total_levels), vmax=2277)\n",
    "    cbar = fig.colorbar(mpl.cm.ScalarMappable(norm=norm, cmap=mpl.cm.viridis),\n",
    "                        cax=cax, orientation='horizontal', ticks=ticks)\n",
    "    cbar.set_label('Total level', size=14)\n",
    "    cbar.ax.set_xticklabels(ticklabels)\n",
    "    fig.savefig('../figures/scatterplots/player-clusters-{}.pdf'.format(split),\n",
    "                bbox_inches='tight')\n",
    "    plt.clf()"
   ]
  },
  {
   "cell_type": "code",
   "execution_count": null,
   "id": "a3ed01c3",
   "metadata": {},
   "outputs": [],
   "source": []
  }
 ],
 "metadata": {
  "kernelspec": {
   "display_name": "Python 3 (ipykernel)",
   "language": "python",
   "name": "python3"
  },
  "language_info": {
   "codemirror_mode": {
    "name": "ipython",
    "version": 3
   },
   "file_extension": ".py",
   "mimetype": "text/x-python",
   "name": "python",
   "nbconvert_exporter": "python",
   "pygments_lexer": "ipython3",
   "version": "3.8.12"
  },
  "varInspector": {
   "cols": {
    "lenName": 16,
    "lenType": 16,
    "lenVar": 40
   },
   "kernels_config": {
    "python": {
     "delete_cmd_postfix": "",
     "delete_cmd_prefix": "del ",
     "library": "var_list.py",
     "varRefreshCmd": "print(var_dic_list())"
    },
    "r": {
     "delete_cmd_postfix": ") ",
     "delete_cmd_prefix": "rm(",
     "library": "var_list.r",
     "varRefreshCmd": "cat(var_dic_list()) "
    }
   },
   "types_to_exclude": [
    "module",
    "function",
    "builtin_function_or_method",
    "instance",
    "_Feature"
   ],
   "window_display": false
  }
 },
 "nbformat": 4,
 "nbformat_minor": 5
}
