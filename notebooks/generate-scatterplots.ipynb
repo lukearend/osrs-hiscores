{
 "cells": [
  {
   "cell_type": "code",
   "execution_count": 1,
   "id": "3e8e6af4",
   "metadata": {},
   "outputs": [],
   "source": [
    "import math\n",
    "import pickle\n",
    "import matplotlib as mpl\n",
    "import numpy as np\n",
    "import umap\n",
    "from matplotlib import pyplot as plt\n",
    "from mpl_toolkits.mplot3d import Axes3D\n",
    "from mpl_toolkits.axes_grid1 import make_axes_locatable"
   ]
  },
  {
   "cell_type": "code",
   "execution_count": 2,
   "id": "8952108d",
   "metadata": {},
   "outputs": [],
   "source": [
    "with open('../data/processed/centroids.pkl', 'rb') as f:\n",
    "    percentiles = pickle.load(f)\n",
    "with open('../data/processed/clusters.pkl', 'rb') as f:\n",
    "    cluster_results = pickle.load(f)"
   ]
  },
  {
   "cell_type": "code",
   "execution_count": 3,
   "id": "e0d44955",
   "metadata": {},
   "outputs": [
    {
     "name": "stdout",
     "output_type": "stream",
     "text": [
      "running split 'all', n_neighbors = 5, min_dist = 0.0\n"
     ]
    },
    {
     "name": "stderr",
     "output_type": "stream",
     "text": [
      "OMP: Info #273: omp_set_nested routine deprecated, please use omp_set_max_active_levels instead.\n"
     ]
    },
    {
     "name": "stdout",
     "output_type": "stream",
     "text": [
      "CPU times: user 17.2 s, sys: 4.82 s, total: 22.1 s\n",
      "Wall time: 16 s\n",
      "running split 'all', n_neighbors = 5, min_dist = 0.1\n",
      "CPU times: user 9.93 s, sys: 4.11 s, total: 14 s\n",
      "Wall time: 8.8 s\n",
      "running split 'all', n_neighbors = 5, min_dist = 0.25\n",
      "CPU times: user 10.2 s, sys: 4.81 s, total: 15 s\n",
      "Wall time: 8.76 s\n",
      "running split 'all', n_neighbors = 5, min_dist = 0.5\n",
      "CPU times: user 10.1 s, sys: 4.69 s, total: 14.8 s\n",
      "Wall time: 8.86 s\n",
      "running split 'all', n_neighbors = 10, min_dist = 0.0\n",
      "CPU times: user 12.8 s, sys: 3.76 s, total: 16.5 s\n",
      "Wall time: 11.8 s\n",
      "running split 'all', n_neighbors = 10, min_dist = 0.1\n",
      "CPU times: user 12.8 s, sys: 3.79 s, total: 16.6 s\n",
      "Wall time: 11.8 s\n",
      "running split 'all', n_neighbors = 10, min_dist = 0.25\n",
      "CPU times: user 12.6 s, sys: 2.77 s, total: 15.4 s\n",
      "Wall time: 11.9 s\n",
      "running split 'all', n_neighbors = 10, min_dist = 0.5\n",
      "CPU times: user 12.6 s, sys: 3.37 s, total: 15.9 s\n",
      "Wall time: 11.7 s\n",
      "running split 'all', n_neighbors = 15, min_dist = 0.0\n",
      "CPU times: user 14.8 s, sys: 3.64 s, total: 18.4 s\n",
      "Wall time: 13.8 s\n",
      "running split 'all', n_neighbors = 15, min_dist = 0.1\n",
      "CPU times: user 14.6 s, sys: 3.48 s, total: 18.1 s\n",
      "Wall time: 13.7 s\n",
      "running split 'all', n_neighbors = 15, min_dist = 0.25\n",
      "CPU times: user 14.8 s, sys: 3.69 s, total: 18.5 s\n",
      "Wall time: 13.8 s\n",
      "running split 'all', n_neighbors = 15, min_dist = 0.5\n",
      "CPU times: user 14.6 s, sys: 3.12 s, total: 17.8 s\n",
      "Wall time: 13.8 s\n",
      "running split 'all', n_neighbors = 20, min_dist = 0.0\n",
      "CPU times: user 16.1 s, sys: 3.39 s, total: 19.5 s\n",
      "Wall time: 15.3 s\n",
      "running split 'all', n_neighbors = 20, min_dist = 0.1\n",
      "CPU times: user 16.2 s, sys: 3.22 s, total: 19.4 s\n",
      "Wall time: 15.3 s\n",
      "running split 'all', n_neighbors = 20, min_dist = 0.25\n",
      "CPU times: user 16.3 s, sys: 3.68 s, total: 20 s\n",
      "Wall time: 15.4 s\n",
      "running split 'all', n_neighbors = 20, min_dist = 0.5\n",
      "CPU times: user 16.2 s, sys: 3.61 s, total: 19.9 s\n",
      "Wall time: 15.3 s\n",
      "running split 'cb', n_neighbors = 5, min_dist = 0.0\n",
      "CPU times: user 9.59 s, sys: 2.56 s, total: 12.2 s\n",
      "Wall time: 9.05 s\n",
      "running split 'cb', n_neighbors = 5, min_dist = 0.1\n",
      "CPU times: user 7.67 s, sys: 2.78 s, total: 10.4 s\n",
      "Wall time: 7.07 s\n",
      "running split 'cb', n_neighbors = 5, min_dist = 0.25\n",
      "CPU times: user 7.6 s, sys: 2.6 s, total: 10.2 s\n",
      "Wall time: 7.04 s\n",
      "running split 'cb', n_neighbors = 5, min_dist = 0.5\n",
      "CPU times: user 7.58 s, sys: 2.43 s, total: 10 s\n",
      "Wall time: 7.12 s\n",
      "running split 'cb', n_neighbors = 10, min_dist = 0.0\n",
      "CPU times: user 8.28 s, sys: 2.14 s, total: 10.4 s\n",
      "Wall time: 7.84 s\n"
     ]
    },
    {
     "name": "stderr",
     "output_type": "stream",
     "text": [
      "/var/folders/64/cb4nqjh958z56qw77tfx3mnw0000gn/T/ipykernel_95902/3483556667.py:19: RuntimeWarning: More than 20 figures have been opened. Figures created through the pyplot interface (`matplotlib.pyplot.figure`) are retained until explicitly closed and may consume too much memory. (To control this warning, see the rcParam `figure.max_open_warning`).\n",
      "  fig = plt.figure(figsize=(12, 12))\n"
     ]
    },
    {
     "name": "stdout",
     "output_type": "stream",
     "text": [
      "running split 'cb', n_neighbors = 10, min_dist = 0.1\n",
      "CPU times: user 8.26 s, sys: 2.11 s, total: 10.4 s\n",
      "Wall time: 7.83 s\n",
      "running split 'cb', n_neighbors = 10, min_dist = 0.25\n",
      "CPU times: user 8.36 s, sys: 2.18 s, total: 10.5 s\n",
      "Wall time: 7.89 s\n",
      "running split 'cb', n_neighbors = 10, min_dist = 0.5\n",
      "CPU times: user 8.22 s, sys: 2.12 s, total: 10.3 s\n",
      "Wall time: 7.77 s\n",
      "running split 'cb', n_neighbors = 15, min_dist = 0.0\n",
      "CPU times: user 8.68 s, sys: 1.79 s, total: 10.5 s\n",
      "Wall time: 8.3 s\n",
      "running split 'cb', n_neighbors = 15, min_dist = 0.1\n",
      "CPU times: user 8.72 s, sys: 1.96 s, total: 10.7 s\n",
      "Wall time: 8.3 s\n",
      "running split 'cb', n_neighbors = 15, min_dist = 0.25\n",
      "CPU times: user 8.77 s, sys: 1.93 s, total: 10.7 s\n",
      "Wall time: 8.37 s\n",
      "running split 'cb', n_neighbors = 15, min_dist = 0.5\n",
      "CPU times: user 8.83 s, sys: 2.12 s, total: 10.9 s\n",
      "Wall time: 8.38 s\n",
      "running split 'cb', n_neighbors = 20, min_dist = 0.0\n",
      "CPU times: user 9 s, sys: 1.74 s, total: 10.7 s\n",
      "Wall time: 8.65 s\n",
      "running split 'cb', n_neighbors = 20, min_dist = 0.1\n",
      "CPU times: user 9.1 s, sys: 1.75 s, total: 10.9 s\n",
      "Wall time: 8.74 s\n",
      "running split 'cb', n_neighbors = 20, min_dist = 0.25\n",
      "CPU times: user 8.99 s, sys: 1.56 s, total: 10.5 s\n",
      "Wall time: 8.73 s\n",
      "running split 'cb', n_neighbors = 20, min_dist = 0.5\n",
      "CPU times: user 9.02 s, sys: 1.47 s, total: 10.5 s\n",
      "Wall time: 8.78 s\n",
      "running split 'noncb', n_neighbors = 5, min_dist = 0.0\n",
      "CPU times: user 10.5 s, sys: 2.04 s, total: 12.5 s\n",
      "Wall time: 10.2 s\n",
      "running split 'noncb', n_neighbors = 5, min_dist = 0.1\n",
      "CPU times: user 10.4 s, sys: 1.66 s, total: 12 s\n",
      "Wall time: 10.1 s\n",
      "running split 'noncb', n_neighbors = 5, min_dist = 0.25\n",
      "CPU times: user 10.6 s, sys: 1.99 s, total: 12.6 s\n",
      "Wall time: 10.2 s\n",
      "running split 'noncb', n_neighbors = 5, min_dist = 0.5\n",
      "CPU times: user 10.6 s, sys: 2.01 s, total: 12.6 s\n",
      "Wall time: 10.2 s\n",
      "running split 'noncb', n_neighbors = 10, min_dist = 0.0\n",
      "CPU times: user 11.7 s, sys: 1.68 s, total: 13.3 s\n",
      "Wall time: 11.3 s\n",
      "running split 'noncb', n_neighbors = 10, min_dist = 0.1\n",
      "CPU times: user 11.7 s, sys: 1.74 s, total: 13.4 s\n",
      "Wall time: 11.4 s\n",
      "running split 'noncb', n_neighbors = 10, min_dist = 0.25\n",
      "CPU times: user 11.8 s, sys: 1.78 s, total: 13.6 s\n",
      "Wall time: 11.4 s\n",
      "running split 'noncb', n_neighbors = 10, min_dist = 0.5\n",
      "CPU times: user 11.7 s, sys: 1.55 s, total: 13.2 s\n",
      "Wall time: 11.4 s\n",
      "running split 'noncb', n_neighbors = 15, min_dist = 0.0\n",
      "CPU times: user 12.5 s, sys: 1.77 s, total: 14.2 s\n",
      "Wall time: 12.1 s\n",
      "running split 'noncb', n_neighbors = 15, min_dist = 0.1\n",
      "CPU times: user 12.5 s, sys: 1.77 s, total: 14.3 s\n",
      "Wall time: 12.1 s\n",
      "running split 'noncb', n_neighbors = 15, min_dist = 0.25\n",
      "CPU times: user 12.6 s, sys: 1.76 s, total: 14.3 s\n",
      "Wall time: 12.2 s\n",
      "running split 'noncb', n_neighbors = 15, min_dist = 0.5\n",
      "CPU times: user 12.4 s, sys: 1.6 s, total: 14 s\n",
      "Wall time: 12.2 s\n",
      "running split 'noncb', n_neighbors = 20, min_dist = 0.0\n",
      "CPU times: user 12.8 s, sys: 1.26 s, total: 14.1 s\n",
      "Wall time: 12.6 s\n",
      "running split 'noncb', n_neighbors = 20, min_dist = 0.1\n",
      "CPU times: user 13 s, sys: 1.55 s, total: 14.6 s\n",
      "Wall time: 12.7 s\n",
      "running split 'noncb', n_neighbors = 20, min_dist = 0.25\n",
      "CPU times: user 12.9 s, sys: 1.46 s, total: 14.4 s\n",
      "Wall time: 12.6 s\n",
      "running split 'noncb', n_neighbors = 20, min_dist = 0.5\n",
      "CPU times: user 12.8 s, sys: 1.41 s, total: 14.2 s\n",
      "Wall time: 12.6 s\n"
     ]
    },
    {
     "data": {
      "text/plain": [
       "<Figure size 864x864 with 0 Axes>"
      ]
     },
     "metadata": {},
     "output_type": "display_data"
    },
    {
     "data": {
      "text/plain": [
       "<Figure size 864x864 with 0 Axes>"
      ]
     },
     "metadata": {},
     "output_type": "display_data"
    },
    {
     "data": {
      "text/plain": [
       "<Figure size 864x864 with 0 Axes>"
      ]
     },
     "metadata": {},
     "output_type": "display_data"
    },
    {
     "data": {
      "text/plain": [
       "<Figure size 864x864 with 0 Axes>"
      ]
     },
     "metadata": {},
     "output_type": "display_data"
    },
    {
     "data": {
      "text/plain": [
       "<Figure size 864x864 with 0 Axes>"
      ]
     },
     "metadata": {},
     "output_type": "display_data"
    },
    {
     "data": {
      "text/plain": [
       "<Figure size 864x864 with 0 Axes>"
      ]
     },
     "metadata": {},
     "output_type": "display_data"
    },
    {
     "data": {
      "text/plain": [
       "<Figure size 864x864 with 0 Axes>"
      ]
     },
     "metadata": {},
     "output_type": "display_data"
    },
    {
     "data": {
      "text/plain": [
       "<Figure size 864x864 with 0 Axes>"
      ]
     },
     "metadata": {},
     "output_type": "display_data"
    },
    {
     "data": {
      "text/plain": [
       "<Figure size 864x864 with 0 Axes>"
      ]
     },
     "metadata": {},
     "output_type": "display_data"
    },
    {
     "data": {
      "text/plain": [
       "<Figure size 864x864 with 0 Axes>"
      ]
     },
     "metadata": {},
     "output_type": "display_data"
    },
    {
     "data": {
      "text/plain": [
       "<Figure size 864x864 with 0 Axes>"
      ]
     },
     "metadata": {},
     "output_type": "display_data"
    },
    {
     "data": {
      "text/plain": [
       "<Figure size 864x864 with 0 Axes>"
      ]
     },
     "metadata": {},
     "output_type": "display_data"
    },
    {
     "data": {
      "text/plain": [
       "<Figure size 864x864 with 0 Axes>"
      ]
     },
     "metadata": {},
     "output_type": "display_data"
    },
    {
     "data": {
      "text/plain": [
       "<Figure size 864x864 with 0 Axes>"
      ]
     },
     "metadata": {},
     "output_type": "display_data"
    },
    {
     "data": {
      "text/plain": [
       "<Figure size 864x864 with 0 Axes>"
      ]
     },
     "metadata": {},
     "output_type": "display_data"
    },
    {
     "data": {
      "text/plain": [
       "<Figure size 864x864 with 0 Axes>"
      ]
     },
     "metadata": {},
     "output_type": "display_data"
    },
    {
     "data": {
      "text/plain": [
       "<Figure size 864x864 with 0 Axes>"
      ]
     },
     "metadata": {},
     "output_type": "display_data"
    },
    {
     "data": {
      "text/plain": [
       "<Figure size 864x864 with 0 Axes>"
      ]
     },
     "metadata": {},
     "output_type": "display_data"
    },
    {
     "data": {
      "text/plain": [
       "<Figure size 864x864 with 0 Axes>"
      ]
     },
     "metadata": {},
     "output_type": "display_data"
    },
    {
     "data": {
      "text/plain": [
       "<Figure size 864x864 with 0 Axes>"
      ]
     },
     "metadata": {},
     "output_type": "display_data"
    },
    {
     "data": {
      "text/plain": [
       "<Figure size 864x864 with 0 Axes>"
      ]
     },
     "metadata": {},
     "output_type": "display_data"
    },
    {
     "data": {
      "text/plain": [
       "<Figure size 864x864 with 0 Axes>"
      ]
     },
     "metadata": {},
     "output_type": "display_data"
    },
    {
     "data": {
      "text/plain": [
       "<Figure size 864x864 with 0 Axes>"
      ]
     },
     "metadata": {},
     "output_type": "display_data"
    },
    {
     "data": {
      "text/plain": [
       "<Figure size 864x864 with 0 Axes>"
      ]
     },
     "metadata": {},
     "output_type": "display_data"
    },
    {
     "data": {
      "text/plain": [
       "<Figure size 864x864 with 0 Axes>"
      ]
     },
     "metadata": {},
     "output_type": "display_data"
    },
    {
     "data": {
      "text/plain": [
       "<Figure size 864x864 with 0 Axes>"
      ]
     },
     "metadata": {},
     "output_type": "display_data"
    },
    {
     "data": {
      "text/plain": [
       "<Figure size 864x864 with 0 Axes>"
      ]
     },
     "metadata": {},
     "output_type": "display_data"
    },
    {
     "data": {
      "text/plain": [
       "<Figure size 864x864 with 0 Axes>"
      ]
     },
     "metadata": {},
     "output_type": "display_data"
    },
    {
     "data": {
      "text/plain": [
       "<Figure size 864x864 with 0 Axes>"
      ]
     },
     "metadata": {},
     "output_type": "display_data"
    },
    {
     "data": {
      "text/plain": [
       "<Figure size 864x864 with 0 Axes>"
      ]
     },
     "metadata": {},
     "output_type": "display_data"
    },
    {
     "data": {
      "text/plain": [
       "<Figure size 864x864 with 0 Axes>"
      ]
     },
     "metadata": {},
     "output_type": "display_data"
    },
    {
     "data": {
      "text/plain": [
       "<Figure size 864x864 with 0 Axes>"
      ]
     },
     "metadata": {},
     "output_type": "display_data"
    },
    {
     "data": {
      "text/plain": [
       "<Figure size 864x864 with 0 Axes>"
      ]
     },
     "metadata": {},
     "output_type": "display_data"
    },
    {
     "data": {
      "text/plain": [
       "<Figure size 864x864 with 0 Axes>"
      ]
     },
     "metadata": {},
     "output_type": "display_data"
    },
    {
     "data": {
      "text/plain": [
       "<Figure size 864x864 with 0 Axes>"
      ]
     },
     "metadata": {},
     "output_type": "display_data"
    },
    {
     "data": {
      "text/plain": [
       "<Figure size 864x864 with 0 Axes>"
      ]
     },
     "metadata": {},
     "output_type": "display_data"
    },
    {
     "data": {
      "text/plain": [
       "<Figure size 864x864 with 0 Axes>"
      ]
     },
     "metadata": {},
     "output_type": "display_data"
    },
    {
     "data": {
      "text/plain": [
       "<Figure size 864x864 with 0 Axes>"
      ]
     },
     "metadata": {},
     "output_type": "display_data"
    },
    {
     "data": {
      "text/plain": [
       "<Figure size 864x864 with 0 Axes>"
      ]
     },
     "metadata": {},
     "output_type": "display_data"
    },
    {
     "data": {
      "text/plain": [
       "<Figure size 864x864 with 0 Axes>"
      ]
     },
     "metadata": {},
     "output_type": "display_data"
    },
    {
     "data": {
      "text/plain": [
       "<Figure size 864x864 with 0 Axes>"
      ]
     },
     "metadata": {},
     "output_type": "display_data"
    },
    {
     "data": {
      "text/plain": [
       "<Figure size 864x864 with 0 Axes>"
      ]
     },
     "metadata": {},
     "output_type": "display_data"
    },
    {
     "data": {
      "text/plain": [
       "<Figure size 864x864 with 0 Axes>"
      ]
     },
     "metadata": {},
     "output_type": "display_data"
    },
    {
     "data": {
      "text/plain": [
       "<Figure size 864x864 with 0 Axes>"
      ]
     },
     "metadata": {},
     "output_type": "display_data"
    },
    {
     "data": {
      "text/plain": [
       "<Figure size 864x864 with 0 Axes>"
      ]
     },
     "metadata": {},
     "output_type": "display_data"
    },
    {
     "data": {
      "text/plain": [
       "<Figure size 864x864 with 0 Axes>"
      ]
     },
     "metadata": {},
     "output_type": "display_data"
    },
    {
     "data": {
      "text/plain": [
       "<Figure size 864x864 with 0 Axes>"
      ]
     },
     "metadata": {},
     "output_type": "display_data"
    },
    {
     "data": {
      "text/plain": [
       "<Figure size 864x864 with 0 Axes>"
      ]
     },
     "metadata": {},
     "output_type": "display_data"
    }
   ],
   "source": [
    "for split in ['all', 'cb', 'noncb']:\n",
    "    centroids = percentiles[split][50]\n",
    "    cluster_sizes = cluster_results[split]['cluster_sizes']\n",
    "\n",
    "    for n_neighbors in [5, 10, 15, 20]:\n",
    "        for min_dist in [0.0, 0.1, 0.25, 0.5]:\n",
    "            print(\"running split '{}', n_neighbors = {}, min_dist = {}\"\n",
    "                  .format(split, n_neighbors, min_dist))\n",
    "\n",
    "            np.random.seed(0)\n",
    "            fit = umap.UMAP(\n",
    "                n_neighbors=n_neighbors,\n",
    "                min_dist=min_dist,\n",
    "                n_components=3,\n",
    "                metric='euclidean'\n",
    "            )\n",
    "            %time u = fit.fit_transform(centroids)\n",
    "\n",
    "            fig = plt.figure(figsize=(12, 12))\n",
    "\n",
    "            ax = fig.add_subplot(111, projection='3d')\n",
    "            title_split = {\n",
    "                'all': 'all',\n",
    "                'cb': 'combat',\n",
    "                'noncb': 'non-combat'\n",
    "            }[split]\n",
    "            plt.title(\"OSRS players clustered by {} skills\".format(title_split),\n",
    "                      weight='bold', fontsize=16, y=1.0, pad=14)\n",
    "            sizes = (1 + np.log(cluster_sizes)) ** 2\n",
    "            colors = np.sum(centroids, axis=1)\n",
    "            ax.scatter(u[:,0], u[:,1], u[:,2], c=colors, s=sizes, alpha=0.25)\n",
    "\n",
    "            xlim = [np.min(u[:, 0]), np.max(u[:, 0])]\n",
    "            ylim = [np.min(u[:, 1]), np.max(u[:, 1])]\n",
    "            zlim = [np.min(u[:, 2]), np.max(u[:, 2])]\n",
    "            ax.set_xticks(range(math.ceil(xlim[0]), math.floor(xlim[1]) + 1))\n",
    "            ax.set_yticks(range(math.ceil(ylim[0]), math.floor(ylim[1]) + 1))\n",
    "            ax.set_zticks(range(math.ceil(zlim[0]), math.floor(zlim[1]) + 1))\n",
    "            ax.set_xlim(xlim)\n",
    "            ax.set_ylim(ylim)\n",
    "            ax.set_zlim(zlim)\n",
    "\n",
    "            cax = plt.axes([0.18, 0.10, 0.675, 0.04])\n",
    "            norm = mpl.colors.Normalize(vmin=1, vmax=2277)\n",
    "            cbar = fig.colorbar(mpl.cm.ScalarMappable(norm=norm, cmap=mpl.cm.viridis),\n",
    "                                cax=cax, orientation='horizontal')\n",
    "            cbar.set_label('Total level', size=14)\n",
    "            min_dist_text = '{:0.2}'.format(min_dist).ljust(4, '0')\n",
    "            fig.savefig('../figures/scatterplots/player-clusters-{}-{}-{}.pdf'\n",
    "                        .format(split, n_neighbors, min_dist_text),\n",
    "                        bbox_inches='tight')\n",
    "            plt.clf()"
   ]
  },
  {
   "cell_type": "code",
   "execution_count": null,
   "id": "f630baf2",
   "metadata": {},
   "outputs": [],
   "source": []
  }
 ],
 "metadata": {
  "kernelspec": {
   "display_name": "Python 3 (ipykernel)",
   "language": "python",
   "name": "python3"
  },
  "language_info": {
   "codemirror_mode": {
    "name": "ipython",
    "version": 3
   },
   "file_extension": ".py",
   "mimetype": "text/x-python",
   "name": "python",
   "nbconvert_exporter": "python",
   "pygments_lexer": "ipython3",
   "version": "3.8.12"
  },
  "varInspector": {
   "cols": {
    "lenName": 16,
    "lenType": 16,
    "lenVar": 40
   },
   "kernels_config": {
    "python": {
     "delete_cmd_postfix": "",
     "delete_cmd_prefix": "del ",
     "library": "var_list.py",
     "varRefreshCmd": "print(var_dic_list())"
    },
    "r": {
     "delete_cmd_postfix": ") ",
     "delete_cmd_prefix": "rm(",
     "library": "var_list.r",
     "varRefreshCmd": "cat(var_dic_list()) "
    }
   },
   "types_to_exclude": [
    "module",
    "function",
    "builtin_function_or_method",
    "instance",
    "_Feature"
   ],
   "window_display": false
  }
 },
 "nbformat": 4,
 "nbformat_minor": 5
}
