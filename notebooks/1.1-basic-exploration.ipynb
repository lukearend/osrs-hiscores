{
 "cells": [
  {
   "cell_type": "code",
   "execution_count": 1,
   "id": "5b9f0afc",
   "metadata": {},
   "outputs": [],
   "source": [
    "import pickle\n",
    "import numpy as np\n",
    "from matplotlib import pyplot as plt\n",
    "from scipy.stats import pearsonr\n",
    "from tqdm.notebook import tqdm"
   ]
  },
  {
   "cell_type": "code",
   "execution_count": 2,
   "id": "e87b5437",
   "metadata": {},
   "outputs": [],
   "source": [
    "in_file = '../data/processed/stats.pkl'\n",
    "with open(in_file, 'rb') as f:\n",
    "    contents = pickle.load(f)    "
   ]
  },
  {
   "cell_type": "code",
   "execution_count": 3,
   "id": "f3da4277",
   "metadata": {},
   "outputs": [],
   "source": [
    "usernames = contents['usernames']\n",
    "features = contents['features']\n",
    "stats = contents['stats']"
   ]
  },
  {
   "cell_type": "code",
   "execution_count": 4,
   "id": "393b6e8b",
   "metadata": {},
   "outputs": [
    {
     "data": {
      "text/plain": [
       "(1938253, (1938253, 72))"
      ]
     },
     "execution_count": 4,
     "metadata": {},
     "output_type": "execute_result"
    }
   ],
   "source": [
    "len(usernames), stats.shape"
   ]
  },
  {
   "cell_type": "code",
   "execution_count": 5,
   "id": "2b0ef264",
   "metadata": {},
   "outputs": [],
   "source": [
    "features = {feature: i for i, feature in enumerate(features)}"
   ]
  },
  {
   "cell_type": "code",
   "execution_count": 6,
   "id": "b5ab4af5",
   "metadata": {},
   "outputs": [],
   "source": [
    "attack_levels = stats[:, features['attack_level']]"
   ]
  },
  {
   "cell_type": "code",
   "execution_count": 7,
   "id": "bdcc50c0",
   "metadata": {},
   "outputs": [
    {
     "data": {
      "text/plain": [
       "-1"
      ]
     },
     "execution_count": 7,
     "metadata": {},
     "output_type": "execute_result"
    }
   ],
   "source": [
    "np.min(attack_levels)"
   ]
  },
  {
   "cell_type": "code",
   "execution_count": 8,
   "id": "8316ae4f",
   "metadata": {},
   "outputs": [
    {
     "data": {
      "text/plain": [
       "48"
      ]
     },
     "execution_count": 8,
     "metadata": {},
     "output_type": "execute_result"
    }
   ],
   "source": [
    "np.sum(attack_levels == -1)"
   ]
  },
  {
   "cell_type": "code",
   "execution_count": 9,
   "id": "91a8b4ad",
   "metadata": {},
   "outputs": [],
   "source": [
    "attack_levels[attack_levels == -1] = 1"
   ]
  },
  {
   "cell_type": "code",
   "execution_count": 10,
   "id": "1dd77522",
   "metadata": {},
   "outputs": [
    {
     "data": {
      "text/plain": [
       "1938253"
      ]
     },
     "execution_count": 10,
     "metadata": {},
     "output_type": "execute_result"
    }
   ],
   "source": [
    "len(attack_levels)"
   ]
  },
  {
   "cell_type": "code",
   "execution_count": 11,
   "id": "514f4dba",
   "metadata": {},
   "outputs": [
    {
     "data": {
      "image/png": "[encoded data removed]",
      "text/plain": [
       "<Figure size 432x288 with 1 Axes>"
      ]
     },
     "metadata": {
      "needs_background": "light"
     },
     "output_type": "display_data"
    }
   ],
   "source": [
    "plt.hist(attack_levels, bins=np.arange(1, 101))\n",
    "plt.show()"
   ]
  },
  {
   "cell_type": "code",
   "execution_count": 12,
   "id": "8f5bbea6",
   "metadata": {},
   "outputs": [],
   "source": [
    "def plot_skill_hist(skill):\n",
    "    feature = skill + '_level'\n",
    "    levels = stats[:, features[feature]]\n",
    "    levels = levels[levels > 0]\n",
    "    plt.figure(figsize=(12, 8))\n",
    "    plt.hist(levels, bins=np.arange(1, 101)) # [1, 2), [2, 3), ..., [99, 100]\n",
    "    plt.yscale('log')\n",
    "    plt.show()"
   ]
  },
  {
   "cell_type": "code",
   "execution_count": 13,
   "id": "36531127",
   "metadata": {},
   "outputs": [
    {
     "data": {
      "image/png": "[encoded data removed]",
      "text/plain": [
       "<Figure size 864x576 with 1 Axes>"
      ]
     },
     "metadata": {
      "needs_background": "light"
     },
     "output_type": "display_data"
    }
   ],
   "source": [
    "plot_skill_hist('magic')"
   ]
  },
  {
   "cell_type": "code",
   "execution_count": 14,
   "id": "7f78e258",
   "metadata": {},
   "outputs": [],
   "source": [
    "att_lvls = stats[:, features['attack_level']]\n",
    "att_keep_inds = att_lvls > 0\n",
    "str_lvls = stats[:, features['strength_level']]\n",
    "str_keep_inds = str_lvls > 0\n",
    "def_lvls = stats[:, features['defence_level']]\n",
    "def_keep_inds = def_lvls > 0\n",
    "keep_inds = np.logical_and(att_keep_inds, str_keep_inds, def_keep_inds)\n",
    "att_lvls = att_lvls[keep_inds]\n",
    "str_lvls = str_lvls[keep_inds]\n",
    "def_lvls = def_lvls[keep_inds]"
   ]
  },
  {
   "cell_type": "code",
   "execution_count": 15,
   "id": "e42a3cc2",
   "metadata": {},
   "outputs": [
    {
     "name": "stdout",
     "output_type": "stream",
     "text": [
      "(0.7674301956868808, 0.0)\n",
      "(0.5974771582039458, 0.0)\n"
     ]
    }
   ],
   "source": [
    "att_str_corr = pearsonr(att_lvls, str_lvls)\n",
    "def_str_corr = pearsonr(def_lvls, str_lvls)\n",
    "print(att_str_corr)\n",
    "print(def_str_corr)"
   ]
  },
  {
   "cell_type": "code",
   "execution_count": 16,
   "id": "5511e783",
   "metadata": {},
   "outputs": [
    {
     "data": {
      "text/plain": [
       "529"
      ]
     },
     "execution_count": 16,
     "metadata": {},
     "output_type": "execute_result"
    }
   ],
   "source": [
    "23*23"
   ]
  },
  {
   "cell_type": "code",
   "execution_count": 17,
   "id": "ae7963bf",
   "metadata": {},
   "outputs": [],
   "source": [
    "import csv\n",
    "with open('../reference/skills.csv', 'r') as f:\n",
    "    reader = csv.reader(f)\n",
    "    skills = [line[0] for line in reader]"
   ]
  },
  {
   "cell_type": "code",
   "execution_count": 18,
   "id": "d1742727",
   "metadata": {},
   "outputs": [
    {
     "data": {
      "text/plain": [
       "['total',\n",
       " 'attack',\n",
       " 'defence',\n",
       " 'strength',\n",
       " 'hitpoints',\n",
       " 'ranged',\n",
       " 'prayer',\n",
       " 'magic',\n",
       " 'cooking',\n",
       " 'woodcutting',\n",
       " 'fletching',\n",
       " 'fishing',\n",
       " 'firemaking',\n",
       " 'crafting',\n",
       " 'smithing',\n",
       " 'mining',\n",
       " 'herblore',\n",
       " 'agility',\n",
       " 'thieving',\n",
       " 'slayer',\n",
       " 'farming',\n",
       " 'runecraft',\n",
       " 'hunter',\n",
       " 'construction']"
      ]
     },
     "execution_count": 18,
     "metadata": {},
     "output_type": "execute_result"
    }
   ],
   "source": [
    "skills"
   ]
  },
  {
   "cell_type": "code",
   "execution_count": 19,
   "id": "793dd951",
   "metadata": {},
   "outputs": [],
   "source": [
    "def correlate_skills(skill_a, skill_b):\n",
    "    levels_a = stats[:, features[skill_a + '_level']]\n",
    "    levels_b = stats[:, features[skill_b + '_level']]\n",
    "    keep_inds_a = levels_a > 0\n",
    "    keep_inds_b = levels_b > 0\n",
    "    keep_inds = np.logical_and(keep_inds_a, keep_inds_b)\n",
    "    levels_a = levels_a[keep_inds]\n",
    "    levels_b = levels_b[keep_inds]\n",
    "    r_value, _ = pearsonr(levels_a, levels_b)\n",
    "    return r_value"
   ]
  },
  {
   "cell_type": "code",
   "execution_count": 20,
   "id": "b2baa4c4",
   "metadata": {},
   "outputs": [
    {
     "data": {
      "application/vnd.jupyter.widget-view+json": {
       "model_id": "59c170c2d598410da33d8e7657ab1042",
       "version_major": 2,
       "version_minor": 0
      },
      "text/plain": [
       "  0%|          | 0/529 [00:00<?, ?it/s]"
      ]
     },
     "metadata": {},
     "output_type": "display_data"
    }
   ],
   "source": [
    "r_matrix = np.zeros((len(skills), len(skills)))\n",
    "\n",
    "with tqdm(total=529) as progress_bar:\n",
    "    for i, skill_i in enumerate(skills):\n",
    "        for j, skill_j in enumerate(skills):\n",
    "            if i > j:\n",
    "                progress_bar.update(1)\n",
    "                continue\n",
    "            r = correlate_skills(skill_i, skill_j)\n",
    "            r_matrix[i, j] = r\n",
    "            r_matrix[j, i] = r\n",
    "\n",
    "            progress_bar.update(1)"
   ]
  },
  {
   "cell_type": "code",
   "execution_count": 21,
   "id": "4d0e1979",
   "metadata": {},
   "outputs": [
    {
     "data": {
      "image/png": "[encoded data removed]",
      "text/plain": [
       "<Figure size 576x576 with 1 Axes>"
      ]
     },
     "metadata": {
      "needs_background": "light"
     },
     "output_type": "display_data"
    }
   ],
   "source": [
    "plt.figure(figsize=(8, 8))\n",
    "plt.imshow(r_matrix)\n",
    "plt.show()"
   ]
  },
  {
   "cell_type": "code",
   "execution_count": null,
   "id": "8226f5b5",
   "metadata": {},
   "outputs": [],
   "source": []
  }
 ],
 "metadata": {
  "kernelspec": {
   "display_name": "Python 3 (ipykernel)",
   "language": "python",
   "name": "python3"
  },
  "language_info": {
   "codemirror_mode": {
    "name": "ipython",
    "version": 3
   },
   "file_extension": ".py",
   "mimetype": "text/x-python",
   "name": "python",
   "nbconvert_exporter": "python",
   "pygments_lexer": "ipython3",
   "version": "3.8.12"
  },
  "varInspector": {
   "cols": {
    "lenName": 16,
    "lenType": 16,
    "lenVar": 40
   },
   "kernels_config": {
    "python": {
     "delete_cmd_postfix": "",
     "delete_cmd_prefix": "del ",
     "library": "var_list.py",
     "varRefreshCmd": "print(var_dic_list())"
    },
    "r": {
     "delete_cmd_postfix": ") ",
     "delete_cmd_prefix": "rm(",
     "library": "var_list.r",
     "varRefreshCmd": "cat(var_dic_list()) "
    }
   },
   "types_to_exclude": [
    "module",
    "function",
    "builtin_function_or_method",
    "instance",
    "_Feature"
   ],
   "window_display": false
  }
 },
 "nbformat": 4,
 "nbformat_minor": 5
}
