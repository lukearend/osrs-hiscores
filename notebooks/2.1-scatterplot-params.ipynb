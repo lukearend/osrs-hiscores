{
 "cells": [
  {
   "cell_type": "code",
   "execution_count": 1,
   "id": "3e8e6af4",
   "metadata": {},
   "outputs": [],
   "source": [
    "import math\n",
    "import pickle\n",
    "import matplotlib as mpl\n",
    "import numpy as np\n",
    "import umap\n",
    "from matplotlib import pyplot as plt\n",
    "from mpl_toolkits.mplot3d import Axes3D\n",
    "from mpl_toolkits.axes_grid1 import make_axes_locatable"
   ]
  },
  {
   "cell_type": "code",
   "execution_count": 2,
   "id": "8952108d",
   "metadata": {},
   "outputs": [],
   "source": [
    "with open('../data/processed/centroids.pkl', 'rb') as f:\n",
    "    percentiles = pickle.load(f)\n",
    "with open('../data/processed/clusters.pkl', 'rb') as f:\n",
    "    cluster_results = pickle.load(f)"
   ]
  },
  {
   "cell_type": "code",
   "execution_count": 3,
   "id": "8a58c4b8",
   "metadata": {},
   "outputs": [],
   "source": [
    "np.random.seed(0)"
   ]
  },
  {
   "cell_type": "code",
   "execution_count": 4,
   "id": "e0d44955",
   "metadata": {},
   "outputs": [
    {
     "name": "stdout",
     "output_type": "stream",
     "text": [
      "running split 'all', n_neighbors = 5, min_dist = 0.0\n"
     ]
    },
    {
     "name": "stderr",
     "output_type": "stream",
     "text": [
      "OMP: Info #273: omp_set_nested routine deprecated, please use omp_set_max_active_levels instead.\n"
     ]
    },
    {
     "name": "stdout",
     "output_type": "stream",
     "text": [
      "CPU times: user 15.6 s, sys: 5.12 s, total: 20.7 s\n",
      "Wall time: 14.5 s\n",
      "running split 'all', n_neighbors = 5, min_dist = 0.1\n",
      "CPU times: user 9.99 s, sys: 4.26 s, total: 14.2 s\n",
      "Wall time: 8.86 s\n",
      "running split 'all', n_neighbors = 5, min_dist = 0.25\n",
      "CPU times: user 10.1 s, sys: 4.77 s, total: 14.9 s\n",
      "Wall time: 8.77 s\n",
      "running split 'all', n_neighbors = 5, min_dist = 0.5\n",
      "CPU times: user 9.95 s, sys: 4.85 s, total: 14.8 s\n",
      "Wall time: 8.71 s\n",
      "running split 'all', n_neighbors = 10, min_dist = 0.0\n",
      "CPU times: user 12.5 s, sys: 3.52 s, total: 16 s\n",
      "Wall time: 11.6 s\n",
      "running split 'all', n_neighbors = 10, min_dist = 0.1\n",
      "CPU times: user 12.9 s, sys: 3.96 s, total: 16.8 s\n",
      "Wall time: 12 s\n",
      "running split 'all', n_neighbors = 10, min_dist = 0.25\n",
      "CPU times: user 12.8 s, sys: 3.66 s, total: 16.4 s\n",
      "Wall time: 11.9 s\n",
      "running split 'all', n_neighbors = 10, min_dist = 0.5\n",
      "CPU times: user 12.8 s, sys: 3.65 s, total: 16.4 s\n",
      "Wall time: 11.9 s\n",
      "running split 'all', n_neighbors = 15, min_dist = 0.0\n",
      "CPU times: user 14.7 s, sys: 3.64 s, total: 18.3 s\n",
      "Wall time: 13.7 s\n",
      "running split 'all', n_neighbors = 15, min_dist = 0.1\n",
      "CPU times: user 14.9 s, sys: 4.13 s, total: 19 s\n",
      "Wall time: 14.1 s\n",
      "running split 'all', n_neighbors = 15, min_dist = 0.25\n",
      "CPU times: user 14.9 s, sys: 4.09 s, total: 19 s\n",
      "Wall time: 14 s\n",
      "running split 'all', n_neighbors = 15, min_dist = 0.5\n",
      "CPU times: user 14.9 s, sys: 4.13 s, total: 19 s\n",
      "Wall time: 14 s\n",
      "running split 'all', n_neighbors = 20, min_dist = 0.0\n",
      "CPU times: user 16.4 s, sys: 3.47 s, total: 19.8 s\n",
      "Wall time: 15.6 s\n",
      "running split 'all', n_neighbors = 20, min_dist = 0.1\n",
      "CPU times: user 16.5 s, sys: 3.11 s, total: 19.6 s\n",
      "Wall time: 15.4 s\n",
      "running split 'all', n_neighbors = 20, min_dist = 0.25\n",
      "CPU times: user 16.3 s, sys: 2.38 s, total: 18.7 s\n",
      "Wall time: 15.8 s\n",
      "running split 'all', n_neighbors = 20, min_dist = 0.5\n",
      "CPU times: user 16.2 s, sys: 3.39 s, total: 19.6 s\n",
      "Wall time: 15.3 s\n",
      "running split 'cb', n_neighbors = 5, min_dist = 0.0\n",
      "CPU times: user 9.45 s, sys: 2.54 s, total: 12 s\n",
      "Wall time: 8.96 s\n",
      "running split 'cb', n_neighbors = 5, min_dist = 0.1\n",
      "CPU times: user 7.63 s, sys: 3.01 s, total: 10.6 s\n",
      "Wall time: 7.02 s\n",
      "running split 'cb', n_neighbors = 5, min_dist = 0.25\n",
      "CPU times: user 7.68 s, sys: 2.77 s, total: 10.5 s\n",
      "Wall time: 7.09 s\n",
      "running split 'cb', n_neighbors = 5, min_dist = 0.5\n",
      "CPU times: user 7.65 s, sys: 2.71 s, total: 10.4 s\n",
      "Wall time: 7.09 s\n",
      "running split 'cb', n_neighbors = 10, min_dist = 0.0\n",
      "CPU times: user 8.34 s, sys: 2.34 s, total: 10.7 s\n",
      "Wall time: 7.84 s\n"
     ]
    },
    {
     "name": "stderr",
     "output_type": "stream",
     "text": [
      "/var/folders/64/cb4nqjh958z56qw77tfx3mnw0000gn/T/ipykernel_53225/2016845119.py:18: RuntimeWarning: More than 20 figures have been opened. Figures created through the pyplot interface (`matplotlib.pyplot.figure`) are retained until explicitly closed and may consume too much memory. (To control this warning, see the rcParam `figure.max_open_warning`).\n",
      "  fig = plt.figure(figsize=(12, 12))\n"
     ]
    },
    {
     "name": "stdout",
     "output_type": "stream",
     "text": [
      "running split 'cb', n_neighbors = 10, min_dist = 0.1\n",
      "CPU times: user 8.27 s, sys: 2.05 s, total: 10.3 s\n",
      "Wall time: 7.85 s\n",
      "running split 'cb', n_neighbors = 10, min_dist = 0.25\n",
      "CPU times: user 8.14 s, sys: 1.9 s, total: 10 s\n",
      "Wall time: 7.77 s\n",
      "running split 'cb', n_neighbors = 10, min_dist = 0.5\n",
      "CPU times: user 8.26 s, sys: 1.83 s, total: 10.1 s\n",
      "Wall time: 7.94 s\n",
      "running split 'cb', n_neighbors = 15, min_dist = 0.0\n",
      "CPU times: user 8.82 s, sys: 1.85 s, total: 10.7 s\n",
      "Wall time: 8.46 s\n",
      "running split 'cb', n_neighbors = 15, min_dist = 0.1\n",
      "CPU times: user 8.78 s, sys: 1.87 s, total: 10.7 s\n",
      "Wall time: 8.41 s\n",
      "running split 'cb', n_neighbors = 15, min_dist = 0.25\n",
      "CPU times: user 8.77 s, sys: 1.83 s, total: 10.6 s\n",
      "Wall time: 8.39 s\n",
      "running split 'cb', n_neighbors = 15, min_dist = 0.5\n",
      "CPU times: user 8.76 s, sys: 2.08 s, total: 10.8 s\n",
      "Wall time: 8.31 s\n",
      "running split 'cb', n_neighbors = 20, min_dist = 0.0\n",
      "CPU times: user 8.98 s, sys: 1.63 s, total: 10.6 s\n",
      "Wall time: 8.66 s\n",
      "running split 'cb', n_neighbors = 20, min_dist = 0.1\n",
      "CPU times: user 9.15 s, sys: 1.67 s, total: 10.8 s\n",
      "Wall time: 8.82 s\n",
      "running split 'cb', n_neighbors = 20, min_dist = 0.25\n",
      "CPU times: user 9.11 s, sys: 1.51 s, total: 10.6 s\n",
      "Wall time: 8.86 s\n",
      "running split 'cb', n_neighbors = 20, min_dist = 0.5\n",
      "CPU times: user 9.08 s, sys: 1.72 s, total: 10.8 s\n",
      "Wall time: 8.76 s\n",
      "running split 'noncb', n_neighbors = 5, min_dist = 0.0\n",
      "CPU times: user 10.5 s, sys: 2.05 s, total: 12.5 s\n",
      "Wall time: 10.1 s\n",
      "running split 'noncb', n_neighbors = 5, min_dist = 0.1\n",
      "CPU times: user 10.7 s, sys: 1.85 s, total: 12.5 s\n",
      "Wall time: 10.3 s\n",
      "running split 'noncb', n_neighbors = 5, min_dist = 0.25\n",
      "CPU times: user 10.7 s, sys: 2.14 s, total: 12.8 s\n",
      "Wall time: 10.2 s\n",
      "running split 'noncb', n_neighbors = 5, min_dist = 0.5\n",
      "CPU times: user 10.7 s, sys: 2.18 s, total: 12.9 s\n",
      "Wall time: 10.2 s\n",
      "running split 'noncb', n_neighbors = 10, min_dist = 0.0\n",
      "CPU times: user 11.6 s, sys: 1.74 s, total: 13.4 s\n",
      "Wall time: 11.3 s\n",
      "running split 'noncb', n_neighbors = 10, min_dist = 0.1\n",
      "CPU times: user 11.7 s, sys: 1.64 s, total: 13.4 s\n",
      "Wall time: 11.4 s\n",
      "running split 'noncb', n_neighbors = 10, min_dist = 0.25\n",
      "CPU times: user 11.8 s, sys: 1.77 s, total: 13.6 s\n",
      "Wall time: 11.4 s\n",
      "running split 'noncb', n_neighbors = 10, min_dist = 0.5\n",
      "CPU times: user 11.6 s, sys: 1.22 s, total: 12.8 s\n",
      "Wall time: 11.4 s\n",
      "running split 'noncb', n_neighbors = 15, min_dist = 0.0\n",
      "CPU times: user 12.4 s, sys: 1.82 s, total: 14.2 s\n",
      "Wall time: 12 s\n",
      "running split 'noncb', n_neighbors = 15, min_dist = 0.1\n",
      "CPU times: user 12.5 s, sys: 1.77 s, total: 14.3 s\n",
      "Wall time: 12.2 s\n",
      "running split 'noncb', n_neighbors = 15, min_dist = 0.25\n",
      "CPU times: user 12.4 s, sys: 1.66 s, total: 14.1 s\n",
      "Wall time: 12.1 s\n",
      "running split 'noncb', n_neighbors = 15, min_dist = 0.5\n",
      "CPU times: user 12.4 s, sys: 1.61 s, total: 14 s\n",
      "Wall time: 12.1 s\n",
      "running split 'noncb', n_neighbors = 20, min_dist = 0.0\n",
      "CPU times: user 12.9 s, sys: 1.3 s, total: 14.2 s\n",
      "Wall time: 12.6 s\n",
      "running split 'noncb', n_neighbors = 20, min_dist = 0.1\n",
      "CPU times: user 12.9 s, sys: 1.28 s, total: 14.2 s\n",
      "Wall time: 12.6 s\n",
      "running split 'noncb', n_neighbors = 20, min_dist = 0.25\n",
      "CPU times: user 12.8 s, sys: 1.58 s, total: 14.4 s\n",
      "Wall time: 12.5 s\n",
      "running split 'noncb', n_neighbors = 20, min_dist = 0.5\n",
      "CPU times: user 12.9 s, sys: 1.59 s, total: 14.5 s\n",
      "Wall time: 12.6 s\n"
     ]
    },
    {
     "data": {
      "text/plain": [
       "<Figure size 864x864 with 0 Axes>"
      ]
     },
     "metadata": {},
     "output_type": "display_data"
    },
    {
     "data": {
      "text/plain": [
       "<Figure size 864x864 with 0 Axes>"
      ]
     },
     "metadata": {},
     "output_type": "display_data"
    },
    {
     "data": {
      "text/plain": [
       "<Figure size 864x864 with 0 Axes>"
      ]
     },
     "metadata": {},
     "output_type": "display_data"
    },
    {
     "data": {
      "text/plain": [
       "<Figure size 864x864 with 0 Axes>"
      ]
     },
     "metadata": {},
     "output_type": "display_data"
    },
    {
     "data": {
      "text/plain": [
       "<Figure size 864x864 with 0 Axes>"
      ]
     },
     "metadata": {},
     "output_type": "display_data"
    },
    {
     "data": {
      "text/plain": [
       "<Figure size 864x864 with 0 Axes>"
      ]
     },
     "metadata": {},
     "output_type": "display_data"
    },
    {
     "data": {
      "text/plain": [
       "<Figure size 864x864 with 0 Axes>"
      ]
     },
     "metadata": {},
     "output_type": "display_data"
    },
    {
     "data": {
      "text/plain": [
       "<Figure size 864x864 with 0 Axes>"
      ]
     },
     "metadata": {},
     "output_type": "display_data"
    },
    {
     "data": {
      "text/plain": [
       "<Figure size 864x864 with 0 Axes>"
      ]
     },
     "metadata": {},
     "output_type": "display_data"
    },
    {
     "data": {
      "text/plain": [
       "<Figure size 864x864 with 0 Axes>"
      ]
     },
     "metadata": {},
     "output_type": "display_data"
    },
    {
     "data": {
      "text/plain": [
       "<Figure size 864x864 with 0 Axes>"
      ]
     },
     "metadata": {},
     "output_type": "display_data"
    },
    {
     "data": {
      "text/plain": [
       "<Figure size 864x864 with 0 Axes>"
      ]
     },
     "metadata": {},
     "output_type": "display_data"
    },
    {
     "data": {
      "text/plain": [
       "<Figure size 864x864 with 0 Axes>"
      ]
     },
     "metadata": {},
     "output_type": "display_data"
    },
    {
     "data": {
      "text/plain": [
       "<Figure size 864x864 with 0 Axes>"
      ]
     },
     "metadata": {},
     "output_type": "display_data"
    },
    {
     "data": {
      "text/plain": [
       "<Figure size 864x864 with 0 Axes>"
      ]
     },
     "metadata": {},
     "output_type": "display_data"
    },
    {
     "data": {
      "text/plain": [
       "<Figure size 864x864 with 0 Axes>"
      ]
     },
     "metadata": {},
     "output_type": "display_data"
    },
    {
     "data": {
      "text/plain": [
       "<Figure size 864x864 with 0 Axes>"
      ]
     },
     "metadata": {},
     "output_type": "display_data"
    },
    {
     "data": {
      "text/plain": [
       "<Figure size 864x864 with 0 Axes>"
      ]
     },
     "metadata": {},
     "output_type": "display_data"
    },
    {
     "data": {
      "text/plain": [
       "<Figure size 864x864 with 0 Axes>"
      ]
     },
     "metadata": {},
     "output_type": "display_data"
    },
    {
     "data": {
      "text/plain": [
       "<Figure size 864x864 with 0 Axes>"
      ]
     },
     "metadata": {},
     "output_type": "display_data"
    },
    {
     "data": {
      "text/plain": [
       "<Figure size 864x864 with 0 Axes>"
      ]
     },
     "metadata": {},
     "output_type": "display_data"
    },
    {
     "data": {
      "text/plain": [
       "<Figure size 864x864 with 0 Axes>"
      ]
     },
     "metadata": {},
     "output_type": "display_data"
    },
    {
     "data": {
      "text/plain": [
       "<Figure size 864x864 with 0 Axes>"
      ]
     },
     "metadata": {},
     "output_type": "display_data"
    },
    {
     "data": {
      "text/plain": [
       "<Figure size 864x864 with 0 Axes>"
      ]
     },
     "metadata": {},
     "output_type": "display_data"
    },
    {
     "data": {
      "text/plain": [
       "<Figure size 864x864 with 0 Axes>"
      ]
     },
     "metadata": {},
     "output_type": "display_data"
    },
    {
     "data": {
      "text/plain": [
       "<Figure size 864x864 with 0 Axes>"
      ]
     },
     "metadata": {},
     "output_type": "display_data"
    },
    {
     "data": {
      "text/plain": [
       "<Figure size 864x864 with 0 Axes>"
      ]
     },
     "metadata": {},
     "output_type": "display_data"
    },
    {
     "data": {
      "text/plain": [
       "<Figure size 864x864 with 0 Axes>"
      ]
     },
     "metadata": {},
     "output_type": "display_data"
    },
    {
     "data": {
      "text/plain": [
       "<Figure size 864x864 with 0 Axes>"
      ]
     },
     "metadata": {},
     "output_type": "display_data"
    },
    {
     "data": {
      "text/plain": [
       "<Figure size 864x864 with 0 Axes>"
      ]
     },
     "metadata": {},
     "output_type": "display_data"
    },
    {
     "data": {
      "text/plain": [
       "<Figure size 864x864 with 0 Axes>"
      ]
     },
     "metadata": {},
     "output_type": "display_data"
    },
    {
     "data": {
      "text/plain": [
       "<Figure size 864x864 with 0 Axes>"
      ]
     },
     "metadata": {},
     "output_type": "display_data"
    },
    {
     "data": {
      "text/plain": [
       "<Figure size 864x864 with 0 Axes>"
      ]
     },
     "metadata": {},
     "output_type": "display_data"
    },
    {
     "data": {
      "text/plain": [
       "<Figure size 864x864 with 0 Axes>"
      ]
     },
     "metadata": {},
     "output_type": "display_data"
    },
    {
     "data": {
      "text/plain": [
       "<Figure size 864x864 with 0 Axes>"
      ]
     },
     "metadata": {},
     "output_type": "display_data"
    },
    {
     "data": {
      "text/plain": [
       "<Figure size 864x864 with 0 Axes>"
      ]
     },
     "metadata": {},
     "output_type": "display_data"
    },
    {
     "data": {
      "text/plain": [
       "<Figure size 864x864 with 0 Axes>"
      ]
     },
     "metadata": {},
     "output_type": "display_data"
    },
    {
     "data": {
      "text/plain": [
       "<Figure size 864x864 with 0 Axes>"
      ]
     },
     "metadata": {},
     "output_type": "display_data"
    },
    {
     "data": {
      "text/plain": [
       "<Figure size 864x864 with 0 Axes>"
      ]
     },
     "metadata": {},
     "output_type": "display_data"
    },
    {
     "data": {
      "text/plain": [
       "<Figure size 864x864 with 0 Axes>"
      ]
     },
     "metadata": {},
     "output_type": "display_data"
    },
    {
     "data": {
      "text/plain": [
       "<Figure size 864x864 with 0 Axes>"
      ]
     },
     "metadata": {},
     "output_type": "display_data"
    },
    {
     "data": {
      "text/plain": [
       "<Figure size 864x864 with 0 Axes>"
      ]
     },
     "metadata": {},
     "output_type": "display_data"
    },
    {
     "data": {
      "text/plain": [
       "<Figure size 864x864 with 0 Axes>"
      ]
     },
     "metadata": {},
     "output_type": "display_data"
    },
    {
     "data": {
      "text/plain": [
       "<Figure size 864x864 with 0 Axes>"
      ]
     },
     "metadata": {},
     "output_type": "display_data"
    },
    {
     "data": {
      "text/plain": [
       "<Figure size 864x864 with 0 Axes>"
      ]
     },
     "metadata": {},
     "output_type": "display_data"
    },
    {
     "data": {
      "text/plain": [
       "<Figure size 864x864 with 0 Axes>"
      ]
     },
     "metadata": {},
     "output_type": "display_data"
    },
    {
     "data": {
      "text/plain": [
       "<Figure size 864x864 with 0 Axes>"
      ]
     },
     "metadata": {},
     "output_type": "display_data"
    },
    {
     "data": {
      "text/plain": [
       "<Figure size 864x864 with 0 Axes>"
      ]
     },
     "metadata": {},
     "output_type": "display_data"
    }
   ],
   "source": [
    "for split in ['all', 'cb', 'noncb']:\n",
    "    centroids = percentiles[split][50]\n",
    "    cluster_sizes = cluster_results[split]['cluster_sizes']\n",
    "\n",
    "    for n_neighbors in [5, 10, 15, 20]:\n",
    "        for min_dist in [0.0, 0.1, 0.25, 0.5]:\n",
    "            print(\"running split '{}', n_neighbors = {}, min_dist = {}\"\n",
    "                  .format(split, n_neighbors, min_dist))\n",
    "\n",
    "            fit = umap.UMAP(\n",
    "                n_neighbors=n_neighbors,\n",
    "                min_dist=min_dist,\n",
    "                n_components=3,\n",
    "                metric='euclidean'\n",
    "            )\n",
    "            %time u = fit.fit_transform(centroids)\n",
    "\n",
    "            fig = plt.figure(figsize=(12, 12))\n",
    "\n",
    "            ax = fig.add_subplot(111, projection='3d')\n",
    "            title_split = {\n",
    "                'all': 'all',\n",
    "                'cb': 'combat',\n",
    "                'noncb': 'non-combat'\n",
    "            }[split]\n",
    "            plt.title(\"OSRS players clustered by {} skills\".format(title_split),\n",
    "                      weight='bold', fontsize=16, y=1.0, pad=14)\n",
    "            sizes = (1 + np.log(cluster_sizes)) ** 2\n",
    "            colors = np.sum(centroids, axis=1)\n",
    "            ax.scatter(u[:,0], u[:,1], u[:,2], c=colors, s=sizes, alpha=0.25)\n",
    "\n",
    "            xlim = [np.min(u[:, 0]), np.max(u[:, 0])]\n",
    "            ylim = [np.min(u[:, 1]), np.max(u[:, 1])]\n",
    "            zlim = [np.min(u[:, 2]), np.max(u[:, 2])]\n",
    "            ax.set_xticks(range(math.ceil(xlim[0]), math.floor(xlim[1]) + 1))\n",
    "            ax.set_yticks(range(math.ceil(ylim[0]), math.floor(ylim[1]) + 1))\n",
    "            ax.set_zticks(range(math.ceil(zlim[0]), math.floor(zlim[1]) + 1))\n",
    "            ax.set_xlim(xlim)\n",
    "            ax.set_ylim(ylim)\n",
    "            ax.set_zlim(zlim)\n",
    "\n",
    "            cax = plt.axes([0.18, 0.11, 0.675, 0.04])\n",
    "            norm = mpl.colors.Normalize(vmin=1, vmax=2277)\n",
    "            cbar = fig.colorbar(mpl.cm.ScalarMappable(norm=norm, cmap=mpl.cm.viridis),\n",
    "                                cax=cax, orientation='horizontal')\n",
    "            cbar.set_label('Total level', size=14)\n",
    "            min_dist_text = '{:0.2}'.format(min_dist).ljust(4, '0')\n",
    "            fig.savefig('../reports/scatterplots/player-clusters-{}-{}-{}.pdf'\n",
    "                        .format(split, n_neighbors, min_dist_text),\n",
    "                        bbox_inches='tight')\n",
    "            plt.clf()"
   ]
  },
  {
   "cell_type": "code",
   "execution_count": null,
   "id": "f630baf2",
   "metadata": {},
   "outputs": [],
   "source": []
  }
 ],
 "metadata": {
  "kernelspec": {
   "display_name": "Python 3 (ipykernel)",
   "language": "python",
   "name": "python3"
  },
  "language_info": {
   "codemirror_mode": {
    "name": "ipython",
    "version": 3
   },
   "file_extension": ".py",
   "mimetype": "text/x-python",
   "name": "python",
   "nbconvert_exporter": "python",
   "pygments_lexer": "ipython3",
   "version": "3.8.12"
  },
  "varInspector": {
   "cols": {
    "lenName": 16,
    "lenType": 16,
    "lenVar": 40
   },
   "kernels_config": {
    "python": {
     "delete_cmd_postfix": "",
     "delete_cmd_prefix": "del ",
     "library": "var_list.py",
     "varRefreshCmd": "print(var_dic_list())"
    },
    "r": {
     "delete_cmd_postfix": ") ",
     "delete_cmd_prefix": "rm(",
     "library": "var_list.r",
     "varRefreshCmd": "cat(var_dic_list()) "
    }
   },
   "types_to_exclude": [
    "module",
    "function",
    "builtin_function_or_method",
    "instance",
    "_Feature"
   ],
   "window_display": false
  }
 },
 "nbformat": 4,
 "nbformat_minor": 5
}
