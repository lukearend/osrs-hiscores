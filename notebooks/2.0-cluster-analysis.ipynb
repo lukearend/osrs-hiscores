{
 "cells": [
  {
   "cell_type": "code",
   "execution_count": 1,
   "id": "c74586c2",
   "metadata": {},
   "outputs": [],
   "source": [
    "import pickle\n",
    "import numpy as np\n",
    "from tqdm.notebook import tqdm"
   ]
  },
  {
   "cell_type": "code",
   "execution_count": 2,
   "id": "81d9c353",
   "metadata": {},
   "outputs": [],
   "source": [
    "with open('../data/raw/clusters.pkl', 'rb') as f:\n",
    "    contents = pickle.load(f)"
   ]
  },
  {
   "cell_type": "code",
   "execution_count": 3,
   "id": "16127ea9",
   "metadata": {},
   "outputs": [
    {
     "data": {
      "application/vnd.jupyter.widget-view+json": {
       "model_id": "7ca1ab65538b495a85e03bcf9e96d79c",
       "version_major": 2,
       "version_minor": 0
      },
      "text/plain": [
       "  0%|          | 0/9044 [00:00<?, ?it/s]"
      ]
     },
     "metadata": {},
     "output_type": "display_data"
    },
    {
     "data": {
      "application/vnd.jupyter.widget-view+json": {
       "model_id": "f6512e5aa91e46039aa135072c911285",
       "version_major": 2,
       "version_minor": 0
      },
      "text/plain": [
       "  0%|          | 0/2897 [00:00<?, ?it/s]"
      ]
     },
     "metadata": {},
     "output_type": "display_data"
    },
    {
     "data": {
      "application/vnd.jupyter.widget-view+json": {
       "model_id": "a56795f0415f4b09becc1c3e7f92a1f9",
       "version_major": 2,
       "version_minor": 0
      },
      "text/plain": [
       "  0%|          | 0/3764 [00:00<?, ?it/s]"
      ]
     },
     "metadata": {},
     "output_type": "display_data"
    }
   ],
   "source": [
    "results = {}\n",
    "for split, cluster_ids in contents.items():\n",
    "    num_clusters = np.max(cluster_ids)\n",
    "    cluster_sizes, _ = np.histogram(cluster_ids, num_clusters)\n",
    "    \n",
    "    results[split] = {\n",
    "        'cluster_ids': cluster_ids,\n",
    "        'num_clusters': num_clusters,\n",
    "        'cluster_sizes': cluster_sizes\n",
    "    }\n",
    "    \n",
    "    sorted_inds = np.argsort(cluster_sizes)\n",
    "    sorted_cluster_sizes = cluster_sizes[sorted_inds]\n",
    "    uniqueness_scores = np.cumsum(sorted_cluster_sizes[::-1])[::-1]\n",
    "    \n",
    "    num_players = len(cluster_ids)\n",
    "    uniqueness_percentiles = {}\n",
    "    for size in tqdm(sorted_cluster_sizes):\n",
    "        if size in uniqueness_percentiles:\n",
    "            continue\n",
    "\n",
    "        keep_inds = (sorted_cluster_sizes == size).nonzero()[0]\n",
    "        num_less_unique_players = uniqueness_scores[keep_inds[0]]\n",
    "        uniqueness_percentile = num_less_unique_players / num_players\n",
    "        uniqueness_percentiles[size] = uniqueness_percentile\n",
    "\n",
    "    uniqueness = {}\n",
    "    for i, cluster_size in enumerate(sorted_cluster_sizes):\n",
    "        cluster_id = sorted_inds[i] + 1\n",
    "        uniqueness[cluster_id] = uniqueness_percentiles[cluster_size]\n",
    "    uniqueness = sorted(uniqueness.items())\n",
    "    uniqueness = [k[1] for k in uniqueness]\n",
    "    \n",
    "    results[split]['percent_uniqueness'] = np.array(uniqueness)"
   ]
  },
  {
   "cell_type": "code",
   "execution_count": 4,
   "id": "87a73569",
   "metadata": {},
   "outputs": [
    {
     "data": {
      "text/plain": [
       "{'all': {'cluster_ids': array([   1,    1,    1, ..., 7933, 4333, 7859]),\n",
       "  'num_clusters': 9044,\n",
       "  'cluster_sizes': array([123100,   3018,     30, ...,      1,      3,      1]),\n",
       "  'percent_uniqueness': array([0.0635108 , 0.43210819, 0.97607949, ..., 1.        , 0.99938243,\n",
       "         1.        ])},\n",
       " 'cb': {'cluster_ids': array([   1,    1,    1, ..., 1098, 1410, 1148]),\n",
       "  'num_clusters': 2897,\n",
       "  'cluster_sizes': array([126118,  83751,   6708, ...,      1,      1,      1]),\n",
       "  'percent_uniqueness': array([0.06506787, 0.24746099, 0.6394609 , ..., 1.        , 1.        ,\n",
       "         1.        ])},\n",
       " 'noncb': {'cluster_ids': array([   1,    1,    1, ..., 3079, 3079, 2378]),\n",
       "  'num_clusters': 3764,\n",
       "  'cluster_sizes': array([63910, 83106, 31963, ...,     1,     1,     1]),\n",
       "  'percent_uniqueness': array([0.11185279, 0.04287676, 0.19844365, ..., 1.        , 1.        ,\n",
       "         1.        ])}}"
      ]
     },
     "execution_count": 4,
     "metadata": {},
     "output_type": "execute_result"
    }
   ],
   "source": [
    "results"
   ]
  },
  {
   "cell_type": "code",
   "execution_count": 5,
   "id": "d9f371df",
   "metadata": {},
   "outputs": [],
   "source": [
    "with open('../data/processed/stats.pkl', 'rb') as f:\n",
    "    stats = pickle.load(f)"
   ]
  },
  {
   "cell_type": "code",
   "execution_count": 6,
   "id": "e8e96e9a",
   "metadata": {},
   "outputs": [],
   "source": [
    "players = stats['usernames']\n",
    "skills = np.array(stats['stats'][:, 4::3], dtype='float32')\n",
    "skills[skills < 0] = np.nan"
   ]
  },
  {
   "cell_type": "code",
   "execution_count": 7,
   "id": "31d2905c",
   "metadata": {},
   "outputs": [
    {
     "name": "stdout",
     "output_type": "stream",
     "text": [
      "48\n",
      "51\n",
      "58\n",
      "42\n",
      "54\n",
      "55\n",
      "51\n",
      "40\n",
      "49\n",
      "55\n",
      "51\n",
      "44\n",
      "51\n",
      "43\n",
      "34\n",
      "31\n",
      "49\n",
      "33\n",
      "70\n",
      "13\n",
      "14\n",
      "13\n",
      "11\n"
     ]
    }
   ],
   "source": [
    "for i in range(23):\n",
    "    print(np.sum(np.isnan(skills[:, i])))"
   ]
  },
  {
   "cell_type": "code",
   "execution_count": 8,
   "id": "4ec8ce67",
   "metadata": {},
   "outputs": [
    {
     "data": {
      "application/vnd.jupyter.widget-view+json": {
       "model_id": "5e6ea93a32644c92aff0c27f61a236e5",
       "version_major": 2,
       "version_minor": 0
      },
      "text/plain": [
       "  0%|          | 0/9044 [00:00<?, ?it/s]"
      ]
     },
     "metadata": {},
     "output_type": "display_data"
    },
    {
     "data": {
      "application/vnd.jupyter.widget-view+json": {
       "model_id": "6c417ef704a0470793e3c6efc8feb9b5",
       "version_major": 2,
       "version_minor": 0
      },
      "text/plain": [
       "  0%|          | 0/2897 [00:00<?, ?it/s]"
      ]
     },
     "metadata": {},
     "output_type": "display_data"
    },
    {
     "name": "stderr",
     "output_type": "stream",
     "text": [
      "/Users/lukearend/projects/osrs-hiscores/env/lib/python3.8/site-packages/numpy/lib/nanfunctions.py:1395: RuntimeWarning: All-NaN slice encountered\n",
      "  result = np.apply_along_axis(_nanquantile_1d, axis, a, q,\n"
     ]
    },
    {
     "data": {
      "application/vnd.jupyter.widget-view+json": {
       "model_id": "e8a5aa41ee4842fda9021e5ba810b552",
       "version_major": 2,
       "version_minor": 0
      },
      "text/plain": [
       "  0%|          | 0/3764 [00:00<?, ?it/s]"
      ]
     },
     "metadata": {},
     "output_type": "display_data"
    }
   ],
   "source": [
    "for split, result in results.items():\n",
    "    num_clusters = result['num_clusters']\n",
    "    \n",
    "    if split == 'all':\n",
    "        dataset = skills\n",
    "        cluster_centroids = np.zeros((num_clusters, 23, 3))\n",
    "    elif split == 'cb':\n",
    "        dataset = skills[:, :7]\n",
    "        cluster_centroids = np.zeros((num_clusters, 7, 3))\n",
    "    else:\n",
    "        dataset = skills[:, 7:]\n",
    "        cluster_centroids = np.zeros((num_clusters, 16, 3))\n",
    "    \n",
    "    for i in tqdm(range(num_clusters)):\n",
    "        keep_inds = result['cluster_ids'] == i+1\n",
    "        cluster_rows = dataset[keep_inds]\n",
    "        cluster_centroids[i, :, 0] = np.nanpercentile(cluster_rows, axis=0, q=5)\n",
    "        cluster_centroids[i, :, 1] = np.nanpercentile(cluster_rows, axis=0, q=50)\n",
    "        cluster_centroids[i, :, 2] = np.nanpercentile(cluster_rows, axis=0, q=95)\n",
    "    \n",
    "    results[split]['cluster_percentiles'] = {\n",
    "        5: cluster_centroids[:, :, 0],\n",
    "        50: cluster_centroids[:, :, 1],\n",
    "        95: cluster_centroids[:, :, 2]\n",
    "    }"
   ]
  },
  {
   "cell_type": "code",
   "execution_count": 9,
   "id": "6fbf2d65",
   "metadata": {},
   "outputs": [
    {
     "data": {
      "text/plain": [
       "{'all': {'cluster_ids': array([   1,    1,    1, ..., 7933, 4333, 7859]),\n",
       "  'num_clusters': 9044,\n",
       "  'cluster_sizes': array([123100,   3018,     30, ...,      1,      3,      1]),\n",
       "  'percent_uniqueness': array([0.0635108 , 0.43210819, 0.97607949, ..., 1.        , 0.99938243,\n",
       "         1.        ]),\n",
       "  'cluster_percentiles': {5: array([[87.  , 86.  , 92.  , ..., 62.  , 70.  , 74.  ],\n",
       "          [50.  ,  1.  , 88.  , ..., 45.  , 65.  , 69.  ],\n",
       "          [52.45, 48.  ,  1.  , ..., 63.9 , 76.7 , 67.25],\n",
       "          ...,\n",
       "          [42.  , 40.  , 73.  , ...,  1.  , 99.  ,  1.  ],\n",
       "          [ 1.  ,  1.  , 84.1 , ...,  1.8 ,  1.8 ,  9.9 ],\n",
       "          [ 1.  ,  1.  , 69.  , ...,  1.  ,  1.  ,  1.  ]]),\n",
       "   50: array([[99. , 99. , 99. , ..., 79. , 81. , 84. ],\n",
       "          [75. ,  1. , 99. , ..., 75. , 84. , 84. ],\n",
       "          [61. , 68.5,  1. , ..., 88. , 90. , 84.5],\n",
       "          ...,\n",
       "          [42. , 40. , 73. , ...,  1. , 99. ,  1. ],\n",
       "          [ 1. ,  1. , 94. , ...,  9. ,  9. , 36. ],\n",
       "          [ 1. ,  1. , 69. , ...,  1. ,  1. ,  1. ]]),\n",
       "   95: array([[99.  , 99.  , 99.  , ..., 99.  , 99.  , 99.  ],\n",
       "          [87.15, 75.  , 99.  , ..., 99.  , 99.  , 99.  ],\n",
       "          [96.75, 96.3 , 73.2 , ..., 99.  , 99.  , 99.  ],\n",
       "          ...,\n",
       "          [42.  , 40.  , 73.  , ...,  1.  , 99.  ,  1.  ],\n",
       "          [ 1.  ,  1.  , 96.7 , ...,  9.9 , 18.9 , 48.6 ],\n",
       "          [ 1.  ,  1.  , 69.  , ...,  1.  ,  1.  ,  1.  ]])}},\n",
       " 'cb': {'cluster_ids': array([   1,    1,    1, ..., 1098, 1410, 1148]),\n",
       "  'num_clusters': 2897,\n",
       "  'cluster_sizes': array([126118,  83751,   6708, ...,      1,      1,      1]),\n",
       "  'percent_uniqueness': array([0.06506787, 0.24746099, 0.6394609 , ..., 1.        , 1.        ,\n",
       "         1.        ]),\n",
       "  'cluster_percentiles': {5: array([[95., 92., 99., ..., 97., 77., 94.],\n",
       "          [81., 80., 90., ..., 90., 73., 86.],\n",
       "          [90., 82., 91., ..., 79., 71., 79.],\n",
       "          ...,\n",
       "          [32., 13., 33., ..., 20., 17., 65.],\n",
       "          [95., 94., 94., ...,  1., 28., 61.],\n",
       "          [60.,  1., 96., ...,  1., 13., 15.]]),\n",
       "   50: array([[99., 99., 99., ..., 99., 90., 99.],\n",
       "          [90., 88., 95., ..., 98., 80., 95.],\n",
       "          [95., 90., 99., ..., 86., 81., 86.],\n",
       "          ...,\n",
       "          [32., 13., 33., ..., 20., 17., 65.],\n",
       "          [95., 94., 94., ...,  1., 28., 61.],\n",
       "          [60.,  1., 96., ...,  1., 13., 15.]]),\n",
       "   95: array([[99., 99., 99., ..., 99., 99., 99.],\n",
       "          [95., 94., 99., ..., 99., 87., 99.],\n",
       "          [99., 99., 99., ..., 93., 99., 99.],\n",
       "          ...,\n",
       "          [32., 13., 33., ..., 20., 17., 65.],\n",
       "          [95., 94., 94., ...,  1., 28., 61.],\n",
       "          [60.,  1., 96., ...,  1., 13., 15.]])}},\n",
       " 'noncb': {'cluster_ids': array([   1,    1,    1, ..., 3079, 3079, 2378]),\n",
       "  'num_clusters': 3764,\n",
       "  'cluster_sizes': array([63910, 83106, 31963, ...,     1,     1,     1]),\n",
       "  'percent_uniqueness': array([0.11185279, 0.04287676, 0.19844365, ..., 1.        , 1.        ,\n",
       "         1.        ]),\n",
       "  'cluster_percentiles': {5: array([[90., 80., 82., ..., 69., 71., 80.],\n",
       "          [76., 71., 70., ..., 56., 69., 70.],\n",
       "          [70., 70., 67., ..., 55., 68., 65.],\n",
       "          ...,\n",
       "          [20., 22.,  1., ...,  1., 18., 33.],\n",
       "          [73., 33., 61., ..., 32., 62.,  1.],\n",
       "          [24.,  1., 13., ...,  1., 99.,  1.]]),\n",
       "   50: array([[99., 93., 99., ..., 86., 88., 85.],\n",
       "          [90., 83., 83., ..., 71., 77., 83.],\n",
       "          [80., 75., 76., ..., 66., 76., 82.],\n",
       "          ...,\n",
       "          [20., 22.,  1., ...,  1., 18., 33.],\n",
       "          [73., 33., 61., ..., 32., 62.,  1.],\n",
       "          [24.,  1., 13., ...,  1., 99.,  1.]]),\n",
       "   95: array([[99., 99., 99., ..., 99., 99., 99.],\n",
       "          [99., 99., 99., ..., 86., 90., 88.],\n",
       "          [96., 88., 92., ..., 81., 97., 85.],\n",
       "          ...,\n",
       "          [20., 22.,  1., ...,  1., 18., 33.],\n",
       "          [73., 33., 61., ..., 32., 62.,  1.],\n",
       "          [24.,  1., 13., ...,  1., 99.,  1.]])}}}"
      ]
     },
     "execution_count": 9,
     "metadata": {},
     "output_type": "execute_result"
    }
   ],
   "source": [
    "results"
   ]
  },
  {
   "cell_type": "code",
   "execution_count": 10,
   "id": "429a71ba",
   "metadata": {},
   "outputs": [
    {
     "name": "stdout",
     "output_type": "stream",
     "text": [
      "replaced cb cluster_percentiles 5 row: 2158 col: 0 with 1\n",
      "replaced cb cluster_percentiles 5 row: 2800 col: 0 with 1\n",
      "replaced cb cluster_percentiles 50 row: 2158 col: 0 with 1\n",
      "replaced cb cluster_percentiles 50 row: 2800 col: 0 with 1\n"
     ]
    }
   ],
   "source": [
    "for split in ['all', 'cb', 'noncb']:\n",
    "    for percentile in [5, 50, 95]:\n",
    "        replace_rows, replace_cols = np.isnan(results[split]['cluster_percentiles'][50]).nonzero()\n",
    "        for i, j in zip(replace_rows, replace_cols):\n",
    "            results[split]['cluster_percentiles'][percentile][i, j] = 1\n",
    "            print(\"replaced {} cluster_percentiles {} row: {} col: {} with 1\"\n",
    "                  .format(split, percentile, i, j))"
   ]
  },
  {
   "cell_type": "code",
   "execution_count": null,
   "id": "4d7e24dc",
   "metadata": {},
   "outputs": [],
   "source": []
  }
 ],
 "metadata": {
  "kernelspec": {
   "display_name": "Python 3 (ipykernel)",
   "language": "python",
   "name": "python3"
  },
  "language_info": {
   "codemirror_mode": {
    "name": "ipython",
    "version": 3
   },
   "file_extension": ".py",
   "mimetype": "text/x-python",
   "name": "python",
   "nbconvert_exporter": "python",
   "pygments_lexer": "ipython3",
   "version": "3.8.12"
  },
  "varInspector": {
   "cols": {
    "lenName": 16,
    "lenType": 16,
    "lenVar": 40
   },
   "kernels_config": {
    "python": {
     "delete_cmd_postfix": "",
     "delete_cmd_prefix": "del ",
     "library": "var_list.py",
     "varRefreshCmd": "print(var_dic_list())"
    },
    "r": {
     "delete_cmd_postfix": ") ",
     "delete_cmd_prefix": "rm(",
     "library": "var_list.r",
     "varRefreshCmd": "cat(var_dic_list()) "
    }
   },
   "types_to_exclude": [
    "module",
    "function",
    "builtin_function_or_method",
    "instance",
    "_Feature"
   ],
   "window_display": false
  }
 },
 "nbformat": 4,
 "nbformat_minor": 5
}
