{
 "cells": [
  {
   "cell_type": "code",
   "execution_count": 1,
   "id": "3e8e6af4",
   "metadata": {},
   "outputs": [],
   "source": [
    "import math\n",
    "import pickle\n",
    "import matplotlib as mpl\n",
    "import numpy as np\n",
    "import umap\n",
    "from matplotlib import pyplot as plt\n",
    "from mpl_toolkits.mplot3d import Axes3D\n",
    "from mpl_toolkits.axes_grid1 import make_axes_locatable"
   ]
  },
  {
   "cell_type": "code",
   "execution_count": 2,
   "id": "8952108d",
   "metadata": {},
   "outputs": [],
   "source": [
    "with open('../data/interim/percentiles.pkl', 'rb') as f:\n",
    "    percentiles = pickle.load(f)\n",
    "with open('../data/interim/clusters.pkl', 'rb') as f:\n",
    "    cluster_results = pickle.load(f)"
   ]
  },
  {
   "cell_type": "code",
   "execution_count": 3,
   "id": "e0d44955",
   "metadata": {},
   "outputs": [
    {
     "name": "stdout",
     "output_type": "stream",
     "text": [
      "running split 'all', n_neighbors = 5, min_dist = 0.0\n"
     ]
    },
    {
     "name": "stderr",
     "output_type": "stream",
     "text": [
      "OMP: Info #273: omp_set_nested routine deprecated, please use omp_set_max_active_levels instead.\n"
     ]
    },
    {
     "name": "stdout",
     "output_type": "stream",
     "text": [
      "CPU times: user 17.8 s, sys: 4.58 s, total: 22.4 s\n",
      "Wall time: 16.7 s\n",
      "running split 'all', n_neighbors = 5, min_dist = 0.1\n",
      "CPU times: user 10.4 s, sys: 5.23 s, total: 15.6 s\n",
      "Wall time: 8.99 s\n",
      "running split 'all', n_neighbors = 5, min_dist = 0.25\n",
      "CPU times: user 10.5 s, sys: 5.6 s, total: 16.1 s\n",
      "Wall time: 8.92 s\n",
      "running split 'all', n_neighbors = 5, min_dist = 0.5\n",
      "CPU times: user 10.5 s, sys: 5.35 s, total: 15.9 s\n",
      "Wall time: 8.95 s\n",
      "running split 'all', n_neighbors = 10, min_dist = 0.0\n",
      "CPU times: user 12.9 s, sys: 3.96 s, total: 16.9 s\n",
      "Wall time: 11.9 s\n",
      "running split 'all', n_neighbors = 10, min_dist = 0.1\n",
      "CPU times: user 13 s, sys: 3.96 s, total: 16.9 s\n",
      "Wall time: 11.9 s\n",
      "running split 'all', n_neighbors = 10, min_dist = 0.25\n",
      "CPU times: user 13.2 s, sys: 4.23 s, total: 17.4 s\n",
      "Wall time: 11.9 s\n",
      "running split 'all', n_neighbors = 10, min_dist = 0.5\n",
      "CPU times: user 13 s, sys: 4.09 s, total: 17.1 s\n",
      "Wall time: 11.9 s\n",
      "running split 'all', n_neighbors = 15, min_dist = 0.0\n",
      "CPU times: user 15.1 s, sys: 3.89 s, total: 19 s\n",
      "Wall time: 14 s\n",
      "running split 'all', n_neighbors = 15, min_dist = 0.1\n",
      "CPU times: user 15.1 s, sys: 4.12 s, total: 19.2 s\n",
      "Wall time: 13.9 s\n",
      "running split 'all', n_neighbors = 15, min_dist = 0.25\n",
      "CPU times: user 15.2 s, sys: 4.23 s, total: 19.4 s\n",
      "Wall time: 13.9 s\n",
      "running split 'all', n_neighbors = 15, min_dist = 0.5\n",
      "CPU times: user 15.2 s, sys: 4.17 s, total: 19.3 s\n",
      "Wall time: 14 s\n",
      "running split 'all', n_neighbors = 20, min_dist = 0.0\n",
      "CPU times: user 16.8 s, sys: 4.27 s, total: 21 s\n",
      "Wall time: 15.6 s\n",
      "running split 'all', n_neighbors = 20, min_dist = 0.1\n",
      "CPU times: user 16.8 s, sys: 3.78 s, total: 20.6 s\n",
      "Wall time: 15.6 s\n",
      "running split 'all', n_neighbors = 20, min_dist = 0.25\n",
      "CPU times: user 16.8 s, sys: 4.23 s, total: 21 s\n",
      "Wall time: 15.6 s\n",
      "running split 'all', n_neighbors = 20, min_dist = 0.5\n",
      "CPU times: user 16.6 s, sys: 4.19 s, total: 20.8 s\n",
      "Wall time: 15.5 s\n",
      "running split 'cb', n_neighbors = 5, min_dist = 0.0\n",
      "CPU times: user 9.74 s, sys: 3.77 s, total: 13.5 s\n",
      "Wall time: 8.89 s\n",
      "running split 'cb', n_neighbors = 5, min_dist = 0.1\n",
      "CPU times: user 7.8 s, sys: 3.45 s, total: 11.3 s\n",
      "Wall time: 7 s\n",
      "running split 'cb', n_neighbors = 5, min_dist = 0.25\n",
      "CPU times: user 7.92 s, sys: 3.7 s, total: 11.6 s\n",
      "Wall time: 7.02 s\n",
      "running split 'cb', n_neighbors = 5, min_dist = 0.5\n",
      "CPU times: user 7.59 s, sys: 3.08 s, total: 10.7 s\n",
      "Wall time: 6.87 s\n",
      "running split 'cb', n_neighbors = 10, min_dist = 0.0\n",
      "CPU times: user 7.99 s, sys: 2.06 s, total: 10.1 s\n",
      "Wall time: 7.55 s\n"
     ]
    },
    {
     "name": "stderr",
     "output_type": "stream",
     "text": [
      "/var/folders/64/cb4nqjh958z56qw77tfx3mnw0000gn/T/ipykernel_43772/2980078422.py:19: RuntimeWarning: More than 20 figures have been opened. Figures created through the pyplot interface (`matplotlib.pyplot.figure`) are retained until explicitly closed and may consume too much memory. (To control this warning, see the rcParam `figure.max_open_warning`).\n",
      "  fig = plt.figure(figsize=(12, 12))\n"
     ]
    },
    {
     "name": "stdout",
     "output_type": "stream",
     "text": [
      "running split 'cb', n_neighbors = 10, min_dist = 0.1\n",
      "CPU times: user 8.1 s, sys: 2.05 s, total: 10.1 s\n",
      "Wall time: 7.65 s\n",
      "running split 'cb', n_neighbors = 10, min_dist = 0.25\n",
      "CPU times: user 8.24 s, sys: 2.46 s, total: 10.7 s\n",
      "Wall time: 7.63 s\n",
      "running split 'cb', n_neighbors = 10, min_dist = 0.5\n",
      "CPU times: user 8.06 s, sys: 2.24 s, total: 10.3 s\n",
      "Wall time: 7.54 s\n",
      "running split 'cb', n_neighbors = 15, min_dist = 0.0\n",
      "CPU times: user 8.49 s, sys: 1.88 s, total: 10.4 s\n",
      "Wall time: 8.04 s\n",
      "running split 'cb', n_neighbors = 15, min_dist = 0.1\n",
      "CPU times: user 8.67 s, sys: 2.12 s, total: 10.8 s\n",
      "Wall time: 8.16 s\n",
      "running split 'cb', n_neighbors = 15, min_dist = 0.25\n",
      "CPU times: user 8.68 s, sys: 2.25 s, total: 10.9 s\n",
      "Wall time: 8.14 s\n",
      "running split 'cb', n_neighbors = 15, min_dist = 0.5\n",
      "CPU times: user 8.46 s, sys: 1.92 s, total: 10.4 s\n",
      "Wall time: 8.06 s\n",
      "running split 'cb', n_neighbors = 20, min_dist = 0.0\n",
      "CPU times: user 8.86 s, sys: 1.75 s, total: 10.6 s\n",
      "Wall time: 8.47 s\n",
      "running split 'cb', n_neighbors = 20, min_dist = 0.1\n",
      "CPU times: user 9.03 s, sys: 1.95 s, total: 11 s\n",
      "Wall time: 8.58 s\n",
      "running split 'cb', n_neighbors = 20, min_dist = 0.25\n",
      "CPU times: user 9 s, sys: 2.22 s, total: 11.2 s\n",
      "Wall time: 8.49 s\n",
      "running split 'cb', n_neighbors = 20, min_dist = 0.5\n",
      "CPU times: user 8.99 s, sys: 2.17 s, total: 11.2 s\n",
      "Wall time: 8.48 s\n",
      "running split 'noncb', n_neighbors = 5, min_dist = 0.0\n",
      "CPU times: user 10.6 s, sys: 2.58 s, total: 13.2 s\n",
      "Wall time: 10 s\n",
      "running split 'noncb', n_neighbors = 5, min_dist = 0.1\n",
      "CPU times: user 10.5 s, sys: 2.54 s, total: 13 s\n",
      "Wall time: 9.88 s\n",
      "running split 'noncb', n_neighbors = 5, min_dist = 0.25\n",
      "CPU times: user 10.4 s, sys: 2.33 s, total: 12.7 s\n",
      "Wall time: 9.89 s\n",
      "running split 'noncb', n_neighbors = 5, min_dist = 0.5\n",
      "CPU times: user 10.6 s, sys: 2.52 s, total: 13.1 s\n",
      "Wall time: 9.99 s\n",
      "running split 'noncb', n_neighbors = 10, min_dist = 0.0\n",
      "CPU times: user 11.4 s, sys: 1.55 s, total: 13 s\n",
      "Wall time: 11.1 s\n",
      "running split 'noncb', n_neighbors = 10, min_dist = 0.1\n",
      "CPU times: user 11.6 s, sys: 1.94 s, total: 13.5 s\n",
      "Wall time: 11.2 s\n",
      "running split 'noncb', n_neighbors = 10, min_dist = 0.25\n",
      "CPU times: user 11.4 s, sys: 1.63 s, total: 13 s\n",
      "Wall time: 11.1 s\n",
      "running split 'noncb', n_neighbors = 10, min_dist = 0.5\n",
      "CPU times: user 11.6 s, sys: 2.22 s, total: 13.8 s\n",
      "Wall time: 11.1 s\n",
      "running split 'noncb', n_neighbors = 15, min_dist = 0.0\n",
      "CPU times: user 12.5 s, sys: 2.16 s, total: 14.7 s\n",
      "Wall time: 12 s\n",
      "running split 'noncb', n_neighbors = 15, min_dist = 0.1\n",
      "CPU times: user 12.2 s, sys: 1.7 s, total: 13.9 s\n",
      "Wall time: 11.8 s\n",
      "running split 'noncb', n_neighbors = 15, min_dist = 0.25\n",
      "CPU times: user 12.4 s, sys: 2.32 s, total: 14.7 s\n",
      "Wall time: 11.9 s\n",
      "running split 'noncb', n_neighbors = 15, min_dist = 0.5\n",
      "CPU times: user 12.3 s, sys: 1.89 s, total: 14.2 s\n",
      "Wall time: 11.9 s\n",
      "running split 'noncb', n_neighbors = 20, min_dist = 0.0\n",
      "CPU times: user 12.8 s, sys: 1.96 s, total: 14.8 s\n",
      "Wall time: 12.4 s\n",
      "running split 'noncb', n_neighbors = 20, min_dist = 0.1\n",
      "CPU times: user 13 s, sys: 2.08 s, total: 15.1 s\n",
      "Wall time: 12.5 s\n",
      "running split 'noncb', n_neighbors = 20, min_dist = 0.25\n",
      "CPU times: user 12.9 s, sys: 1.91 s, total: 14.8 s\n",
      "Wall time: 12.4 s\n",
      "running split 'noncb', n_neighbors = 20, min_dist = 0.5\n",
      "CPU times: user 12.8 s, sys: 2.12 s, total: 14.9 s\n",
      "Wall time: 12.3 s\n"
     ]
    },
    {
     "data": {
      "text/plain": [
       "<Figure size 864x864 with 0 Axes>"
      ]
     },
     "metadata": {},
     "output_type": "display_data"
    },
    {
     "data": {
      "text/plain": [
       "<Figure size 864x864 with 0 Axes>"
      ]
     },
     "metadata": {},
     "output_type": "display_data"
    },
    {
     "data": {
      "text/plain": [
       "<Figure size 864x864 with 0 Axes>"
      ]
     },
     "metadata": {},
     "output_type": "display_data"
    },
    {
     "data": {
      "text/plain": [
       "<Figure size 864x864 with 0 Axes>"
      ]
     },
     "metadata": {},
     "output_type": "display_data"
    },
    {
     "data": {
      "text/plain": [
       "<Figure size 864x864 with 0 Axes>"
      ]
     },
     "metadata": {},
     "output_type": "display_data"
    },
    {
     "data": {
      "text/plain": [
       "<Figure size 864x864 with 0 Axes>"
      ]
     },
     "metadata": {},
     "output_type": "display_data"
    },
    {
     "data": {
      "text/plain": [
       "<Figure size 864x864 with 0 Axes>"
      ]
     },
     "metadata": {},
     "output_type": "display_data"
    },
    {
     "data": {
      "text/plain": [
       "<Figure size 864x864 with 0 Axes>"
      ]
     },
     "metadata": {},
     "output_type": "display_data"
    },
    {
     "data": {
      "text/plain": [
       "<Figure size 864x864 with 0 Axes>"
      ]
     },
     "metadata": {},
     "output_type": "display_data"
    },
    {
     "data": {
      "text/plain": [
       "<Figure size 864x864 with 0 Axes>"
      ]
     },
     "metadata": {},
     "output_type": "display_data"
    },
    {
     "data": {
      "text/plain": [
       "<Figure size 864x864 with 0 Axes>"
      ]
     },
     "metadata": {},
     "output_type": "display_data"
    },
    {
     "data": {
      "text/plain": [
       "<Figure size 864x864 with 0 Axes>"
      ]
     },
     "metadata": {},
     "output_type": "display_data"
    },
    {
     "data": {
      "text/plain": [
       "<Figure size 864x864 with 0 Axes>"
      ]
     },
     "metadata": {},
     "output_type": "display_data"
    },
    {
     "data": {
      "text/plain": [
       "<Figure size 864x864 with 0 Axes>"
      ]
     },
     "metadata": {},
     "output_type": "display_data"
    },
    {
     "data": {
      "text/plain": [
       "<Figure size 864x864 with 0 Axes>"
      ]
     },
     "metadata": {},
     "output_type": "display_data"
    },
    {
     "data": {
      "text/plain": [
       "<Figure size 864x864 with 0 Axes>"
      ]
     },
     "metadata": {},
     "output_type": "display_data"
    },
    {
     "data": {
      "text/plain": [
       "<Figure size 864x864 with 0 Axes>"
      ]
     },
     "metadata": {},
     "output_type": "display_data"
    },
    {
     "data": {
      "text/plain": [
       "<Figure size 864x864 with 0 Axes>"
      ]
     },
     "metadata": {},
     "output_type": "display_data"
    },
    {
     "data": {
      "text/plain": [
       "<Figure size 864x864 with 0 Axes>"
      ]
     },
     "metadata": {},
     "output_type": "display_data"
    },
    {
     "data": {
      "text/plain": [
       "<Figure size 864x864 with 0 Axes>"
      ]
     },
     "metadata": {},
     "output_type": "display_data"
    },
    {
     "data": {
      "text/plain": [
       "<Figure size 864x864 with 0 Axes>"
      ]
     },
     "metadata": {},
     "output_type": "display_data"
    },
    {
     "data": {
      "text/plain": [
       "<Figure size 864x864 with 0 Axes>"
      ]
     },
     "metadata": {},
     "output_type": "display_data"
    },
    {
     "data": {
      "text/plain": [
       "<Figure size 864x864 with 0 Axes>"
      ]
     },
     "metadata": {},
     "output_type": "display_data"
    },
    {
     "data": {
      "text/plain": [
       "<Figure size 864x864 with 0 Axes>"
      ]
     },
     "metadata": {},
     "output_type": "display_data"
    },
    {
     "data": {
      "text/plain": [
       "<Figure size 864x864 with 0 Axes>"
      ]
     },
     "metadata": {},
     "output_type": "display_data"
    },
    {
     "data": {
      "text/plain": [
       "<Figure size 864x864 with 0 Axes>"
      ]
     },
     "metadata": {},
     "output_type": "display_data"
    },
    {
     "data": {
      "text/plain": [
       "<Figure size 864x864 with 0 Axes>"
      ]
     },
     "metadata": {},
     "output_type": "display_data"
    },
    {
     "data": {
      "text/plain": [
       "<Figure size 864x864 with 0 Axes>"
      ]
     },
     "metadata": {},
     "output_type": "display_data"
    },
    {
     "data": {
      "text/plain": [
       "<Figure size 864x864 with 0 Axes>"
      ]
     },
     "metadata": {},
     "output_type": "display_data"
    },
    {
     "data": {
      "text/plain": [
       "<Figure size 864x864 with 0 Axes>"
      ]
     },
     "metadata": {},
     "output_type": "display_data"
    },
    {
     "data": {
      "text/plain": [
       "<Figure size 864x864 with 0 Axes>"
      ]
     },
     "metadata": {},
     "output_type": "display_data"
    },
    {
     "data": {
      "text/plain": [
       "<Figure size 864x864 with 0 Axes>"
      ]
     },
     "metadata": {},
     "output_type": "display_data"
    },
    {
     "data": {
      "text/plain": [
       "<Figure size 864x864 with 0 Axes>"
      ]
     },
     "metadata": {},
     "output_type": "display_data"
    },
    {
     "data": {
      "text/plain": [
       "<Figure size 864x864 with 0 Axes>"
      ]
     },
     "metadata": {},
     "output_type": "display_data"
    },
    {
     "data": {
      "text/plain": [
       "<Figure size 864x864 with 0 Axes>"
      ]
     },
     "metadata": {},
     "output_type": "display_data"
    },
    {
     "data": {
      "text/plain": [
       "<Figure size 864x864 with 0 Axes>"
      ]
     },
     "metadata": {},
     "output_type": "display_data"
    },
    {
     "data": {
      "text/plain": [
       "<Figure size 864x864 with 0 Axes>"
      ]
     },
     "metadata": {},
     "output_type": "display_data"
    },
    {
     "data": {
      "text/plain": [
       "<Figure size 864x864 with 0 Axes>"
      ]
     },
     "metadata": {},
     "output_type": "display_data"
    },
    {
     "data": {
      "text/plain": [
       "<Figure size 864x864 with 0 Axes>"
      ]
     },
     "metadata": {},
     "output_type": "display_data"
    },
    {
     "data": {
      "text/plain": [
       "<Figure size 864x864 with 0 Axes>"
      ]
     },
     "metadata": {},
     "output_type": "display_data"
    },
    {
     "data": {
      "text/plain": [
       "<Figure size 864x864 with 0 Axes>"
      ]
     },
     "metadata": {},
     "output_type": "display_data"
    },
    {
     "data": {
      "text/plain": [
       "<Figure size 864x864 with 0 Axes>"
      ]
     },
     "metadata": {},
     "output_type": "display_data"
    },
    {
     "data": {
      "text/plain": [
       "<Figure size 864x864 with 0 Axes>"
      ]
     },
     "metadata": {},
     "output_type": "display_data"
    },
    {
     "data": {
      "text/plain": [
       "<Figure size 864x864 with 0 Axes>"
      ]
     },
     "metadata": {},
     "output_type": "display_data"
    },
    {
     "data": {
      "text/plain": [
       "<Figure size 864x864 with 0 Axes>"
      ]
     },
     "metadata": {},
     "output_type": "display_data"
    },
    {
     "data": {
      "text/plain": [
       "<Figure size 864x864 with 0 Axes>"
      ]
     },
     "metadata": {},
     "output_type": "display_data"
    },
    {
     "data": {
      "text/plain": [
       "<Figure size 864x864 with 0 Axes>"
      ]
     },
     "metadata": {},
     "output_type": "display_data"
    },
    {
     "data": {
      "text/plain": [
       "<Figure size 864x864 with 0 Axes>"
      ]
     },
     "metadata": {},
     "output_type": "display_data"
    }
   ],
   "source": [
    "for split in ['all', 'cb', 'noncb']:\n",
    "    centroids = percentiles[split][50]\n",
    "    cluster_sizes = cluster_results[split]['cluster_sizes']\n",
    "\n",
    "    for n_neighbors in [5, 10, 15, 20]:\n",
    "        for min_dist in [0.0, 0.1, 0.25, 0.5]:\n",
    "            print(\"running split '{}', n_neighbors = {}, min_dist = {}\"\n",
    "                  .format(split, n_neighbors, min_dist))\n",
    "\n",
    "            np.random.seed(0)\n",
    "            fit = umap.UMAP(\n",
    "                n_neighbors=n_neighbors,\n",
    "                min_dist=min_dist,\n",
    "                n_components=3,\n",
    "                metric='euclidean'\n",
    "            )\n",
    "            %time u = fit.fit_transform(centroids[:, 1:])  # exclude total levels column\n",
    "\n",
    "            fig = plt.figure(figsize=(12, 12))\n",
    "\n",
    "            ax = fig.add_subplot(111, projection='3d')\n",
    "            title_split = {\n",
    "                'all': 'all',\n",
    "                'cb': 'combat',\n",
    "                'noncb': 'non-combat'\n",
    "            }[split]\n",
    "            plt.title(\"OSRS players clustered by {} skills\".format(title_split),\n",
    "                      weight='bold', fontsize=16, y=1.0, pad=14)\n",
    "            sizes = (1 + np.log(cluster_sizes)) ** 2\n",
    "            total_levels = centroids[:, 0]\n",
    "            ax.scatter(u[:, 0], u[:, 1], u[:, 2], c=np.log(total_levels), s=sizes, alpha=0.25)\n",
    "\n",
    "            xlim = [np.min(u[:, 0]), np.max(u[:, 0])]\n",
    "            ylim = [np.min(u[:, 1]), np.max(u[:, 1])]\n",
    "            zlim = [np.min(u[:, 2]), np.max(u[:, 2])]\n",
    "            ax.set_xticks(range(math.ceil(xlim[0]), math.floor(xlim[1]) + 1))\n",
    "            ax.set_yticks(range(math.ceil(ylim[0]), math.floor(ylim[1]) + 1))\n",
    "            ax.set_zticks(range(math.ceil(zlim[0]), math.floor(zlim[1]) + 1))\n",
    "            ax.set_xlim(xlim)\n",
    "            ax.set_ylim(ylim)\n",
    "            ax.set_zlim(zlim)\n",
    "\n",
    "            cax = plt.axes([0.18, 0.10, 0.675, 0.04])\n",
    "            norm = mpl.colors.LogNorm(vmin=np.min(total_levels), vmax=2277)\n",
    "            cbar = fig.colorbar(mpl.cm.ScalarMappable(norm=norm, cmap=mpl.cm.viridis),\n",
    "                                cax=cax, orientation='horizontal')\n",
    "            cbar.set_label('Total level', size=14)\n",
    "            min_dist_text = '{:0.2}'.format(min_dist).ljust(4, '0')\n",
    "            fig.savefig('../figures/scatterplots/player-clusters-{}-{}-{}.pdf'\n",
    "                        .format(split, n_neighbors, min_dist_text),\n",
    "                        bbox_inches='tight')\n",
    "            plt.clf()"
   ]
  },
  {
   "cell_type": "code",
   "execution_count": null,
   "id": "f630baf2",
   "metadata": {},
   "outputs": [],
   "source": []
  }
 ],
 "metadata": {
  "kernelspec": {
   "display_name": "Python 3 (ipykernel)",
   "language": "python",
   "name": "python3"
  },
  "language_info": {
   "codemirror_mode": {
    "name": "ipython",
    "version": 3
   },
   "file_extension": ".py",
   "mimetype": "text/x-python",
   "name": "python",
   "nbconvert_exporter": "python",
   "pygments_lexer": "ipython3",
   "version": "3.8.12"
  },
  "varInspector": {
   "cols": {
    "lenName": 16,
    "lenType": 16,
    "lenVar": 40
   },
   "kernels_config": {
    "python": {
     "delete_cmd_postfix": "",
     "delete_cmd_prefix": "del ",
     "library": "var_list.py",
     "varRefreshCmd": "print(var_dic_list())"
    },
    "r": {
     "delete_cmd_postfix": ") ",
     "delete_cmd_prefix": "rm(",
     "library": "var_list.r",
     "varRefreshCmd": "cat(var_dic_list()) "
    }
   },
   "types_to_exclude": [
    "module",
    "function",
    "builtin_function_or_method",
    "instance",
    "_Feature"
   ],
   "window_display": false
  }
 },
 "nbformat": 4,
 "nbformat_minor": 5
}
